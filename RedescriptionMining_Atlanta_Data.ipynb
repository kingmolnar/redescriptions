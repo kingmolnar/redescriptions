{
 "cells": [
  {
   "cell_type": "markdown",
   "metadata": {},
   "source": [
    "This notebook illustrates the motivation for redescription mining.\n",
    "\n",
    "References:\n",
    "1. Esther Galbrun, Pauli Miettinen \"Redescription Mining\" (SpringerBriefs in Computer Science), 2018\n",
    "2. An Introduction to Redescription Mining\u000b",
    "http://siren.mpi-inf.mpg.de/tutorial_sdm2017/main/\n",
    "3. Siren - Interactive and visual redescription mining\u000b",
    "http://siren.gforge.inria.fr/main/\n"
   ]
  },
  {
   "cell_type": "markdown",
   "metadata": {},
   "source": [
    "# Data"
   ]
  },
  {
   "cell_type": "code",
   "execution_count": 2,
   "metadata": {
    "ExecuteTime": {
     "end_time": "2018-09-11T20:33:48.037462",
     "start_time": "2018-09-11T20:33:47.262988"
    },
    "collapsed": true
   },
   "outputs": [],
   "source": [
    "from selenium import webdriver\n",
    "from selenium.webdriver.chrome.options import Options\n",
    "import os, sys\n",
    "from bs4 import BeautifulSoup\n",
    "import re\n",
    "import pandas as pd\n",
    "\n",
    "\n",
    "chrome_options = Options()\n",
    "chrome_options.add_argument(\"--headless\")\n",
    "chrome_options.add_argument(\"--window-size=1920x1080\")\n",
    "\n",
    "# download the chrome driver from https://sites.google.com/a/chromium.org/chromedriver/downloads and put it in the\n",
    "# current directory\n",
    "chrome_driver = '/opt/chrome/chromedriver'"
   ]
  },
  {
   "cell_type": "markdown",
   "metadata": {},
   "source": [
    "## APD Crime Data"
   ]
  },
  {
   "cell_type": "code",
   "execution_count": 3,
   "metadata": {
    "ExecuteTime": {
     "end_time": "2018-09-11T20:33:58.217281",
     "start_time": "2018-09-11T20:33:55.478108"
    },
    "collapsed": true
   },
   "outputs": [],
   "source": [
    "driver = webdriver.Chrome(chrome_options=chrome_options, executable_path=chrome_driver)\n",
    "driver.get(\"http://www.atlantapd.org/i-want-to/crime-data-downloads\")\n",
    "#lucky_button = driver.find_element_by_css_selector(\"[name=btnI]\")\n",
    "#lucky_button.click()\n",
    "\n",
    "# capture the screen\n",
    "driver.get_screenshot_as_file(\"apd_download.png\")\n",
    "driver.close()"
   ]
  },
  {
   "cell_type": "markdown",
   "metadata": {},
   "source": [
    "![](apd_download.png)"
   ]
  },
  {
   "cell_type": "code",
   "execution_count": null,
   "metadata": {
    "ExecuteTime": {
     "end_time": "2018-09-10T17:13:02.965646",
     "start_time": "2018-09-10T17:13:02.961452"
    },
    "collapsed": false,
    "scrolled": false
   },
   "outputs": [],
   "source": [
    "# %%sh\n",
    "# rm COBRA2017.zip COBRA-2017.csv 'READ ME.txt'\n",
    "# wget -O COBRA2017.zip http://www.atlantapd.org/Home/ShowDocument?id=2026\n",
    "# unzip COBRA2017.zip\n",
    "# ls -l COBRA*"
   ]
  },
  {
   "cell_type": "code",
   "execution_count": 4,
   "metadata": {
    "ExecuteTime": {
     "end_time": "2018-09-11T20:34:15.778171",
     "start_time": "2018-09-11T20:34:09.559662"
    },
    "collapsed": false
   },
   "outputs": [
    {
     "name": "stdout",
     "output_type": "stream",
     "text": [
      "(25, 9)\n"
     ]
    }
   ],
   "source": [
    "cobra_df = pd.read_excel('COBRA-YTD2017.xlsx', 'Query')\n",
    "crime = cobra_df[cobra_df[u'MinOfucr']>300] \\\n",
    "    .pivot_table(values='offense_id', index='npu', columns='UC2 Literal', aggfunc='count', fill_value=0)\n",
    "print(crime.shape)"
   ]
  },
  {
   "cell_type": "code",
   "execution_count": 5,
   "metadata": {
    "ExecuteTime": {
     "end_time": "2018-09-11T20:34:19.271033",
     "start_time": "2018-09-11T20:34:19.213175"
    },
    "collapsed": false
   },
   "outputs": [
    {
     "data": {
      "text/html": [
       "<div>\n",
       "<table border=\"1\" class=\"dataframe\">\n",
       "  <thead>\n",
       "    <tr style=\"text-align: right;\">\n",
       "      <th>UC2 Literal</th>\n",
       "      <th>AGG ASSAULT</th>\n",
       "      <th>AUTO THEFT</th>\n",
       "      <th>BURGLARY-NONRES</th>\n",
       "      <th>BURGLARY-RESIDENCE</th>\n",
       "      <th>LARCENY-FROM VEHICLE</th>\n",
       "      <th>LARCENY-NON VEHICLE</th>\n",
       "      <th>ROBBERY-COMMERCIAL</th>\n",
       "      <th>ROBBERY-PEDESTRIAN</th>\n",
       "      <th>ROBBERY-RESIDENCE</th>\n",
       "    </tr>\n",
       "    <tr>\n",
       "      <th>npu</th>\n",
       "      <th></th>\n",
       "      <th></th>\n",
       "      <th></th>\n",
       "      <th></th>\n",
       "      <th></th>\n",
       "      <th></th>\n",
       "      <th></th>\n",
       "      <th></th>\n",
       "      <th></th>\n",
       "    </tr>\n",
       "  </thead>\n",
       "  <tbody>\n",
       "    <tr>\n",
       "      <th>A</th>\n",
       "      <td>3</td>\n",
       "      <td>13</td>\n",
       "      <td>3</td>\n",
       "      <td>19</td>\n",
       "      <td>67</td>\n",
       "      <td>24</td>\n",
       "      <td>0</td>\n",
       "      <td>0</td>\n",
       "      <td>0</td>\n",
       "    </tr>\n",
       "    <tr>\n",
       "      <th>B</th>\n",
       "      <td>39</td>\n",
       "      <td>160</td>\n",
       "      <td>41</td>\n",
       "      <td>92</td>\n",
       "      <td>639</td>\n",
       "      <td>824</td>\n",
       "      <td>7</td>\n",
       "      <td>49</td>\n",
       "      <td>1</td>\n",
       "    </tr>\n",
       "    <tr>\n",
       "      <th>C</th>\n",
       "      <td>8</td>\n",
       "      <td>46</td>\n",
       "      <td>8</td>\n",
       "      <td>20</td>\n",
       "      <td>154</td>\n",
       "      <td>60</td>\n",
       "      <td>2</td>\n",
       "      <td>6</td>\n",
       "      <td>0</td>\n",
       "    </tr>\n",
       "    <tr>\n",
       "      <th>D</th>\n",
       "      <td>15</td>\n",
       "      <td>113</td>\n",
       "      <td>24</td>\n",
       "      <td>44</td>\n",
       "      <td>494</td>\n",
       "      <td>170</td>\n",
       "      <td>5</td>\n",
       "      <td>15</td>\n",
       "      <td>2</td>\n",
       "    </tr>\n",
       "    <tr>\n",
       "      <th>E</th>\n",
       "      <td>67</td>\n",
       "      <td>196</td>\n",
       "      <td>46</td>\n",
       "      <td>68</td>\n",
       "      <td>957</td>\n",
       "      <td>475</td>\n",
       "      <td>11</td>\n",
       "      <td>68</td>\n",
       "      <td>4</td>\n",
       "    </tr>\n",
       "    <tr>\n",
       "      <th>F</th>\n",
       "      <td>23</td>\n",
       "      <td>74</td>\n",
       "      <td>44</td>\n",
       "      <td>45</td>\n",
       "      <td>374</td>\n",
       "      <td>180</td>\n",
       "      <td>10</td>\n",
       "      <td>21</td>\n",
       "      <td>1</td>\n",
       "    </tr>\n",
       "    <tr>\n",
       "      <th>G</th>\n",
       "      <td>61</td>\n",
       "      <td>55</td>\n",
       "      <td>13</td>\n",
       "      <td>62</td>\n",
       "      <td>138</td>\n",
       "      <td>54</td>\n",
       "      <td>1</td>\n",
       "      <td>16</td>\n",
       "      <td>4</td>\n",
       "    </tr>\n",
       "    <tr>\n",
       "      <th>H</th>\n",
       "      <td>74</td>\n",
       "      <td>63</td>\n",
       "      <td>9</td>\n",
       "      <td>91</td>\n",
       "      <td>125</td>\n",
       "      <td>71</td>\n",
       "      <td>3</td>\n",
       "      <td>29</td>\n",
       "      <td>5</td>\n",
       "    </tr>\n",
       "    <tr>\n",
       "      <th>I</th>\n",
       "      <td>103</td>\n",
       "      <td>129</td>\n",
       "      <td>19</td>\n",
       "      <td>145</td>\n",
       "      <td>229</td>\n",
       "      <td>137</td>\n",
       "      <td>6</td>\n",
       "      <td>34</td>\n",
       "      <td>2</td>\n",
       "    </tr>\n",
       "    <tr>\n",
       "      <th>J</th>\n",
       "      <td>97</td>\n",
       "      <td>79</td>\n",
       "      <td>19</td>\n",
       "      <td>105</td>\n",
       "      <td>111</td>\n",
       "      <td>120</td>\n",
       "      <td>2</td>\n",
       "      <td>36</td>\n",
       "      <td>2</td>\n",
       "    </tr>\n",
       "    <tr>\n",
       "      <th>K</th>\n",
       "      <td>78</td>\n",
       "      <td>48</td>\n",
       "      <td>14</td>\n",
       "      <td>69</td>\n",
       "      <td>62</td>\n",
       "      <td>77</td>\n",
       "      <td>3</td>\n",
       "      <td>24</td>\n",
       "      <td>4</td>\n",
       "    </tr>\n",
       "    <tr>\n",
       "      <th>L</th>\n",
       "      <td>67</td>\n",
       "      <td>31</td>\n",
       "      <td>15</td>\n",
       "      <td>70</td>\n",
       "      <td>91</td>\n",
       "      <td>141</td>\n",
       "      <td>0</td>\n",
       "      <td>22</td>\n",
       "      <td>9</td>\n",
       "    </tr>\n",
       "    <tr>\n",
       "      <th>M</th>\n",
       "      <td>148</td>\n",
       "      <td>175</td>\n",
       "      <td>41</td>\n",
       "      <td>61</td>\n",
       "      <td>967</td>\n",
       "      <td>641</td>\n",
       "      <td>3</td>\n",
       "      <td>107</td>\n",
       "      <td>9</td>\n",
       "    </tr>\n",
       "    <tr>\n",
       "      <th>N</th>\n",
       "      <td>14</td>\n",
       "      <td>43</td>\n",
       "      <td>21</td>\n",
       "      <td>25</td>\n",
       "      <td>415</td>\n",
       "      <td>137</td>\n",
       "      <td>4</td>\n",
       "      <td>25</td>\n",
       "      <td>1</td>\n",
       "    </tr>\n",
       "    <tr>\n",
       "      <th>O</th>\n",
       "      <td>34</td>\n",
       "      <td>42</td>\n",
       "      <td>12</td>\n",
       "      <td>80</td>\n",
       "      <td>107</td>\n",
       "      <td>296</td>\n",
       "      <td>4</td>\n",
       "      <td>14</td>\n",
       "      <td>2</td>\n",
       "    </tr>\n",
       "    <tr>\n",
       "      <th>P</th>\n",
       "      <td>57</td>\n",
       "      <td>107</td>\n",
       "      <td>19</td>\n",
       "      <td>84</td>\n",
       "      <td>293</td>\n",
       "      <td>75</td>\n",
       "      <td>2</td>\n",
       "      <td>22</td>\n",
       "      <td>2</td>\n",
       "    </tr>\n",
       "    <tr>\n",
       "      <th>Q</th>\n",
       "      <td>0</td>\n",
       "      <td>10</td>\n",
       "      <td>0</td>\n",
       "      <td>2</td>\n",
       "      <td>10</td>\n",
       "      <td>3</td>\n",
       "      <td>0</td>\n",
       "      <td>0</td>\n",
       "      <td>1</td>\n",
       "    </tr>\n",
       "    <tr>\n",
       "      <th>R</th>\n",
       "      <td>74</td>\n",
       "      <td>114</td>\n",
       "      <td>47</td>\n",
       "      <td>106</td>\n",
       "      <td>175</td>\n",
       "      <td>175</td>\n",
       "      <td>8</td>\n",
       "      <td>41</td>\n",
       "      <td>11</td>\n",
       "    </tr>\n",
       "    <tr>\n",
       "      <th>S</th>\n",
       "      <td>75</td>\n",
       "      <td>61</td>\n",
       "      <td>15</td>\n",
       "      <td>87</td>\n",
       "      <td>90</td>\n",
       "      <td>105</td>\n",
       "      <td>1</td>\n",
       "      <td>20</td>\n",
       "      <td>6</td>\n",
       "    </tr>\n",
       "    <tr>\n",
       "      <th>T</th>\n",
       "      <td>90</td>\n",
       "      <td>113</td>\n",
       "      <td>11</td>\n",
       "      <td>90</td>\n",
       "      <td>191</td>\n",
       "      <td>205</td>\n",
       "      <td>12</td>\n",
       "      <td>68</td>\n",
       "      <td>3</td>\n",
       "    </tr>\n",
       "    <tr>\n",
       "      <th>V</th>\n",
       "      <td>123</td>\n",
       "      <td>140</td>\n",
       "      <td>13</td>\n",
       "      <td>108</td>\n",
       "      <td>290</td>\n",
       "      <td>146</td>\n",
       "      <td>3</td>\n",
       "      <td>54</td>\n",
       "      <td>8</td>\n",
       "    </tr>\n",
       "    <tr>\n",
       "      <th>W</th>\n",
       "      <td>39</td>\n",
       "      <td>76</td>\n",
       "      <td>42</td>\n",
       "      <td>140</td>\n",
       "      <td>264</td>\n",
       "      <td>134</td>\n",
       "      <td>4</td>\n",
       "      <td>44</td>\n",
       "      <td>1</td>\n",
       "    </tr>\n",
       "    <tr>\n",
       "      <th>X</th>\n",
       "      <td>74</td>\n",
       "      <td>140</td>\n",
       "      <td>41</td>\n",
       "      <td>49</td>\n",
       "      <td>206</td>\n",
       "      <td>120</td>\n",
       "      <td>9</td>\n",
       "      <td>46</td>\n",
       "      <td>7</td>\n",
       "    </tr>\n",
       "    <tr>\n",
       "      <th>Y</th>\n",
       "      <td>54</td>\n",
       "      <td>77</td>\n",
       "      <td>28</td>\n",
       "      <td>104</td>\n",
       "      <td>156</td>\n",
       "      <td>112</td>\n",
       "      <td>2</td>\n",
       "      <td>27</td>\n",
       "      <td>1</td>\n",
       "    </tr>\n",
       "    <tr>\n",
       "      <th>Z</th>\n",
       "      <td>117</td>\n",
       "      <td>145</td>\n",
       "      <td>22</td>\n",
       "      <td>96</td>\n",
       "      <td>168</td>\n",
       "      <td>155</td>\n",
       "      <td>2</td>\n",
       "      <td>41</td>\n",
       "      <td>7</td>\n",
       "    </tr>\n",
       "  </tbody>\n",
       "</table>\n",
       "</div>"
      ],
      "text/plain": [
       "UC2 Literal  AGG ASSAULT  AUTO THEFT  BURGLARY-NONRES  BURGLARY-RESIDENCE  \\\n",
       "npu                                                                         \n",
       "A                      3          13                3                  19   \n",
       "B                     39         160               41                  92   \n",
       "C                      8          46                8                  20   \n",
       "D                     15         113               24                  44   \n",
       "E                     67         196               46                  68   \n",
       "F                     23          74               44                  45   \n",
       "G                     61          55               13                  62   \n",
       "H                     74          63                9                  91   \n",
       "I                    103         129               19                 145   \n",
       "J                     97          79               19                 105   \n",
       "K                     78          48               14                  69   \n",
       "L                     67          31               15                  70   \n",
       "M                    148         175               41                  61   \n",
       "N                     14          43               21                  25   \n",
       "O                     34          42               12                  80   \n",
       "P                     57         107               19                  84   \n",
       "Q                      0          10                0                   2   \n",
       "R                     74         114               47                 106   \n",
       "S                     75          61               15                  87   \n",
       "T                     90         113               11                  90   \n",
       "V                    123         140               13                 108   \n",
       "W                     39          76               42                 140   \n",
       "X                     74         140               41                  49   \n",
       "Y                     54          77               28                 104   \n",
       "Z                    117         145               22                  96   \n",
       "\n",
       "UC2 Literal  LARCENY-FROM VEHICLE  LARCENY-NON VEHICLE  ROBBERY-COMMERCIAL  \\\n",
       "npu                                                                          \n",
       "A                              67                   24                   0   \n",
       "B                             639                  824                   7   \n",
       "C                             154                   60                   2   \n",
       "D                             494                  170                   5   \n",
       "E                             957                  475                  11   \n",
       "F                             374                  180                  10   \n",
       "G                             138                   54                   1   \n",
       "H                             125                   71                   3   \n",
       "I                             229                  137                   6   \n",
       "J                             111                  120                   2   \n",
       "K                              62                   77                   3   \n",
       "L                              91                  141                   0   \n",
       "M                             967                  641                   3   \n",
       "N                             415                  137                   4   \n",
       "O                             107                  296                   4   \n",
       "P                             293                   75                   2   \n",
       "Q                              10                    3                   0   \n",
       "R                             175                  175                   8   \n",
       "S                              90                  105                   1   \n",
       "T                             191                  205                  12   \n",
       "V                             290                  146                   3   \n",
       "W                             264                  134                   4   \n",
       "X                             206                  120                   9   \n",
       "Y                             156                  112                   2   \n",
       "Z                             168                  155                   2   \n",
       "\n",
       "UC2 Literal  ROBBERY-PEDESTRIAN  ROBBERY-RESIDENCE  \n",
       "npu                                                 \n",
       "A                             0                  0  \n",
       "B                            49                  1  \n",
       "C                             6                  0  \n",
       "D                            15                  2  \n",
       "E                            68                  4  \n",
       "F                            21                  1  \n",
       "G                            16                  4  \n",
       "H                            29                  5  \n",
       "I                            34                  2  \n",
       "J                            36                  2  \n",
       "K                            24                  4  \n",
       "L                            22                  9  \n",
       "M                           107                  9  \n",
       "N                            25                  1  \n",
       "O                            14                  2  \n",
       "P                            22                  2  \n",
       "Q                             0                  1  \n",
       "R                            41                 11  \n",
       "S                            20                  6  \n",
       "T                            68                  3  \n",
       "V                            54                  8  \n",
       "W                            44                  1  \n",
       "X                            46                  7  \n",
       "Y                            27                  1  \n",
       "Z                            41                  7  "
      ]
     },
     "execution_count": 5,
     "metadata": {},
     "output_type": "execute_result"
    }
   ],
   "source": [
    "crime"
   ]
  },
  {
   "cell_type": "code",
   "execution_count": null,
   "metadata": {
    "ExecuteTime": {
     "end_time": "2018-09-11T20:33:35.526192",
     "start_time": "2018-09-11T20:33:35.512933"
    },
    "collapsed": false
   },
   "outputs": [],
   "source": [
    "%%sh\n",
    "pwd"
   ]
  },
  {
   "cell_type": "code",
   "execution_count": null,
   "metadata": {
    "collapsed": true
   },
   "outputs": [],
   "source": []
  },
  {
   "cell_type": "code",
   "execution_count": null,
   "metadata": {
    "collapsed": true
   },
   "outputs": [],
   "source": []
  },
  {
   "cell_type": "markdown",
   "metadata": {},
   "source": [
    "## Neighborhood Data"
   ]
  },
  {
   "cell_type": "code",
   "execution_count": 30,
   "metadata": {
    "ExecuteTime": {
     "end_time": "2018-09-11T21:16:47.084455",
     "start_time": "2018-09-11T21:16:44.642429"
    },
    "collapsed": false
   },
   "outputs": [],
   "source": [
    "driver = webdriver.Chrome(chrome_options=chrome_options, executable_path=chrome_driver)\n",
    "driver.get(\"http://cspav.gatech.edu/NQOLH/About_NPUs/A/\")\n",
    "#lucky_button = driver.find_element_by_css_selector(\"[name=btnI]\")\n",
    "#lucky_button.click()\n",
    "\n",
    "# capture the screen\n",
    "driver.get_screenshot_as_file(\"capture3.png\")\n",
    "soup = BeautifulSoup(driver.page_source, 'lxml')\n",
    "driver.close()"
   ]
  },
  {
   "cell_type": "markdown",
   "metadata": {},
   "source": [
    "![](capture3.png)"
   ]
  },
  {
   "cell_type": "markdown",
   "metadata": {
    "ExecuteTime": {
     "end_time": "2018-09-10T16:09:44.468227",
     "start_time": "2018-09-10T16:09:44.216076"
    }
   },
   "source": [
    "loading tables "
   ]
  },
  {
   "cell_type": "code",
   "execution_count": 31,
   "metadata": {
    "ExecuteTime": {
     "end_time": "2018-09-11T21:17:33.400454",
     "start_time": "2018-09-11T21:16:56.601580"
    },
    "collapsed": false,
    "scrolled": false
   },
   "outputs": [
    {
     "name": "stdout",
     "output_type": "stream",
     "text": [
      "(22032, 5)\n",
      "(901, 5)\n"
     ]
    },
    {
     "data": {
      "text/html": [
       "<div>\n",
       "<table border=\"1\" class=\"dataframe\">\n",
       "  <thead>\n",
       "    <tr style=\"text-align: right;\">\n",
       "      <th></th>\n",
       "      <th>Variables</th>\n",
       "      <th>Value</th>\n",
       "      <th>AtlantaValue</th>\n",
       "      <th>npu</th>\n",
       "      <th>table</th>\n",
       "    </tr>\n",
       "  </thead>\n",
       "  <tbody>\n",
       "    <tr>\n",
       "      <th>0</th>\n",
       "      <td>Population</td>\n",
       "      <td>14272</td>\n",
       "      <td>425931</td>\n",
       "      <td>A</td>\n",
       "      <td>Geography</td>\n",
       "    </tr>\n",
       "    <tr>\n",
       "      <th>1</th>\n",
       "      <td>Population Density</td>\n",
       "      <td>2 persons per acre</td>\n",
       "      <td>5 persons per acre</td>\n",
       "      <td>A</td>\n",
       "      <td>Geography</td>\n",
       "    </tr>\n",
       "    <tr>\n",
       "      <th>2</th>\n",
       "      <td>Racial Composition</td>\n",
       "      <td>88% White, 5%Black, 3% Asian, and 4% Other</td>\n",
       "      <td>39.0% White, 53.8% Black, 3.3% Asian, and 3.9%...</td>\n",
       "      <td>A</td>\n",
       "      <td>Geography</td>\n",
       "    </tr>\n",
       "    <tr>\n",
       "      <th>3</th>\n",
       "      <td>Unemployment Rates</td>\n",
       "      <td>5%</td>\n",
       "      <td>12.4%</td>\n",
       "      <td>A</td>\n",
       "      <td>Geography</td>\n",
       "    </tr>\n",
       "    <tr>\n",
       "      <th>4</th>\n",
       "      <td>Median Household Income</td>\n",
       "      <td>$149,648</td>\n",
       "      <td>$46,146</td>\n",
       "      <td>A</td>\n",
       "      <td>Geography</td>\n",
       "    </tr>\n",
       "  </tbody>\n",
       "</table>\n",
       "</div>"
      ],
      "text/plain": [
       "                 Variables                                       Value  \\\n",
       "0               Population                                       14272   \n",
       "1       Population Density                          2 persons per acre   \n",
       "2       Racial Composition  88% White, 5%Black, 3% Asian, and 4% Other   \n",
       "3       Unemployment Rates                                          5%   \n",
       "4  Median Household Income                                    $149,648   \n",
       "\n",
       "                                        AtlantaValue npu      table  \n",
       "0                                             425931   A  Geography  \n",
       "1                                 5 persons per acre   A  Geography  \n",
       "2  39.0% White, 53.8% Black, 3.3% Asian, and 3.9%...   A  Geography  \n",
       "3                                              12.4%   A  Geography  \n",
       "4                                            $46,146   A  Geography  "
      ]
     },
     "execution_count": 31,
     "metadata": {},
     "output_type": "execute_result"
    }
   ],
   "source": [
    "totaldf = pd.DataFrame()\n",
    "driver = webdriver.Chrome(chrome_options=chrome_options, executable_path=chrome_driver)\n",
    "for N in ['A', 'B', 'C', 'D', 'E', 'F', 'G', 'H', 'I', 'J',\n",
    "          'K', 'L', 'M', 'N', 'O', 'P', 'Q', 'R', 'S', 'T',\n",
    "          'V', 'W', 'X', 'Y', 'Z']:\n",
    "    driver.get(\"http://cspav.gatech.edu/NQOLH/About_NPUs/%s/\"%N)\n",
    "    soup = BeautifulSoup(driver.page_source, 'lxml')\n",
    "   \n",
    "    for t in  soup.findAll(name='table'):\n",
    "        res = pd.read_html(t.prettify())\n",
    "        if len(res)==0:\n",
    "            continue\n",
    "        df = res[0]\n",
    "        if (df.shape[1]==3) and ('Variables' in df.columns):\n",
    "            npu = df.columns[1].replace('NPU ', '')\n",
    "            df.columns = ['Variables', 'Value', 'AtlantaValue']\n",
    "            df['npu'] = npu\n",
    "            if df.shape[0]==7:\n",
    "                df['table'] = 'Geography'\n",
    "            elif df.shape[0]==17:\n",
    "                df['table'] = 'Quality of Life'\n",
    "            elif df.shape[0]==13:\n",
    "                df['table'] = 'Health'\n",
    "            else:\n",
    "                df['table'] = 'Unknown'\n",
    "            totaldf = pd.concat([totaldf, df])\n",
    "driver.close()\n",
    "print(totaldf.shape)\n",
    "totaldf.drop_duplicates(inplace=True)\n",
    "print(totaldf.shape)\n",
    "totaldf.head()"
   ]
  },
  {
   "cell_type": "code",
   "execution_count": null,
   "metadata": {
    "collapsed": true
   },
   "outputs": [],
   "source": [
    "totaldfldf.to_excel('')"
   ]
  },
  {
   "cell_type": "code",
   "execution_count": null,
   "metadata": {
    "ExecuteTime": {
     "end_time": "2018-09-10T17:47:50.732510",
     "start_time": "2018-09-10T17:47:50.716686"
    },
    "collapsed": false
   },
   "outputs": [],
   "source": [
    "totaldf.groupby('table').agg({'Variables': 'count'})"
   ]
  },
  {
   "cell_type": "code",
   "execution_count": null,
   "metadata": {
    "ExecuteTime": {
     "end_time": "2018-09-10T17:47:58.841543",
     "start_time": "2018-09-10T17:47:58.828248"
    },
    "collapsed": false
   },
   "outputs": [],
   "source": [
    "geography = totaldf[totaldf.table=='Geography'].pivot(index='npu', columns='Variables', values='Value')\n",
    "print(geography.shape, ', '.join(geography.index))"
   ]
  },
  {
   "cell_type": "code",
   "execution_count": null,
   "metadata": {
    "ExecuteTime": {
     "end_time": "2018-09-10T17:48:01.273582",
     "start_time": "2018-09-10T17:48:01.259945"
    },
    "collapsed": false
   },
   "outputs": [],
   "source": [
    "health = totaldf[totaldf.table=='Health'].pivot(index='npu', columns='Variables', values='Value')\n",
    "print(health.shape, ', '.join(health.index))"
   ]
  },
  {
   "cell_type": "code",
   "execution_count": null,
   "metadata": {
    "ExecuteTime": {
     "end_time": "2018-09-10T17:48:03.599341",
     "start_time": "2018-09-10T17:48:03.586611"
    },
    "collapsed": false
   },
   "outputs": [],
   "source": [
    "life = totaldf[totaldf.table=='Quality of Life'].pivot(index='npu', columns='Variables', values='Value')\n",
    "print(life.shape, ', '.join(life.index))"
   ]
  },
  {
   "cell_type": "code",
   "execution_count": null,
   "metadata": {
    "collapsed": true
   },
   "outputs": [],
   "source": []
  },
  {
   "cell_type": "markdown",
   "metadata": {},
   "source": [
    "# Decision Tree"
   ]
  },
  {
   "cell_type": "markdown",
   "metadata": {
    "ExecuteTime": {
     "end_time": "2018-09-11T21:12:12.092687",
     "start_time": "2018-09-11T21:12:12.085730"
    }
   },
   "source": [
    "## BURGLARY-RESIDENCE\n",
    "```\n",
    "I 145\n",
    "W 140\n",
    "V 108\n",
    "R 106\n",
    "```"
   ]
  },
  {
   "cell_type": "code",
   "execution_count": 29,
   "metadata": {
    "ExecuteTime": {
     "end_time": "2018-09-11T21:16:09.728652",
     "start_time": "2018-09-11T21:16:09.707139"
    },
    "collapsed": true
   },
   "outputs": [],
   "source": [
    "def decision_tree_graph(df, npus):\n",
    "    from sklearn.datasets import load_iris\n",
    "    from sklearn import tree\n",
    "    import numpy as np\n",
    "    import graphviz \n",
    "    data = np.array(df)\n",
    "    target = np.zeros(df.shape[0])\n",
    "    target[[x for x in map(lambda s: s in npus, df.index)]] = 1\n",
    "    featurenames = df.columns\n",
    "    clf = tree.DecisionTreeClassifier() ### (max_depth=2)\n",
    "    clf = clf.fit(data, target)\n",
    "    \n",
    "    dot_data = tree.export_graphviz(clf, out_file=None,\n",
    "                         feature_names=featurenames,  \n",
    "                         class_names=['Others', npus],  \n",
    "                         filled=True, rounded=True,  \n",
    "                         special_characters=True)  \n",
    "    graph = graphviz.Source(dot_data) \n",
    "    return graph"
   ]
  },
  {
   "cell_type": "code",
   "execution_count": 46,
   "metadata": {
    "ExecuteTime": {
     "end_time": "2018-09-11T21:36:27.875564",
     "start_time": "2018-09-11T21:36:27.841182"
    },
    "collapsed": false
   },
   "outputs": [
    {
     "data": {
      "image/svg+xml": [
       "<?xml version=\"1.0\" encoding=\"UTF-8\" standalone=\"no\"?>\n",
       "<!DOCTYPE svg PUBLIC \"-//W3C//DTD SVG 1.1//EN\"\n",
       " \"http://www.w3.org/Graphics/SVG/1.1/DTD/svg11.dtd\">\n",
       "<!-- Generated by graphviz version 2.30.1 (20150306.0020)\n",
       " -->\n",
       "<!-- Title: Tree Pages: 1 -->\n",
       "<svg width=\"620pt\" height=\"422pt\"\n",
       " viewBox=\"0.00 0.00 620.00 422.00\" xmlns=\"http://www.w3.org/2000/svg\" xmlns:xlink=\"http://www.w3.org/1999/xlink\">\n",
       "<g id=\"graph0\" class=\"graph\" transform=\"scale(1 1) rotate(0) translate(4 418)\">\n",
       "<title>Tree</title>\n",
       "<polygon fill=\"white\" stroke=\"white\" points=\"-4,5 -4,-418 617,-418 617,5 -4,5\"/>\n",
       "<!-- 0 -->\n",
       "<g id=\"node1\" class=\"node\"><title>0</title>\n",
       "<path fill=\"#e58139\" fill-opacity=\"0.807843\" stroke=\"black\" d=\"M341,-413.5C341,-413.5 157,-413.5 157,-413.5 151,-413.5 145,-407.5 145,-401.5 145,-401.5 145,-346.5 145,-346.5 145,-340.5 151,-334.5 157,-334.5 157,-334.5 341,-334.5 341,-334.5 347,-334.5 353,-340.5 353,-346.5 353,-346.5 353,-401.5 353,-401.5 353,-407.5 347,-413.5 341,-413.5\"/>\n",
       "<text text-anchor=\"start\" x=\"153.5\" y=\"-399.3\" font-family=\"Helvetica,sans-Serif\" font-size=\"14.00\">Esophageal Cancer LQ ≤ 1.495</text>\n",
       "<text text-anchor=\"start\" x=\"213.5\" y=\"-385.3\" font-family=\"Helvetica,sans-Serif\" font-size=\"14.00\">gini = 0.269</text>\n",
       "<text text-anchor=\"start\" x=\"208\" y=\"-371.3\" font-family=\"Helvetica,sans-Serif\" font-size=\"14.00\">samples = 25</text>\n",
       "<text text-anchor=\"start\" x=\"206\" y=\"-357.3\" font-family=\"Helvetica,sans-Serif\" font-size=\"14.00\">value = [21, 4]</text>\n",
       "<text text-anchor=\"start\" x=\"205\" y=\"-343.3\" font-family=\"Helvetica,sans-Serif\" font-size=\"14.00\">class = Others</text>\n",
       "</g>\n",
       "<!-- 1 -->\n",
       "<g id=\"node2\" class=\"node\"><title>1</title>\n",
       "<path fill=\"#399de5\" fill-opacity=\"0.333333\" stroke=\"black\" d=\"M208,-297.5C208,-297.5 104,-297.5 104,-297.5 98,-297.5 92,-291.5 92,-285.5 92,-285.5 92,-230.5 92,-230.5 92,-224.5 98,-218.5 104,-218.5 104,-218.5 208,-218.5 208,-218.5 214,-218.5 220,-224.5 220,-230.5 220,-230.5 220,-285.5 220,-285.5 220,-291.5 214,-297.5 208,-297.5\"/>\n",
       "<text text-anchor=\"start\" x=\"100.5\" y=\"-283.3\" font-family=\"Helvetica,sans-Serif\" font-size=\"14.00\">Diabetes LQ ≤ 0.8</text>\n",
       "<text text-anchor=\"start\" x=\"124\" y=\"-269.3\" font-family=\"Helvetica,sans-Serif\" font-size=\"14.00\">gini = 0.48</text>\n",
       "<text text-anchor=\"start\" x=\"118.5\" y=\"-255.3\" font-family=\"Helvetica,sans-Serif\" font-size=\"14.00\">samples = 5</text>\n",
       "<text text-anchor=\"start\" x=\"116.5\" y=\"-241.3\" font-family=\"Helvetica,sans-Serif\" font-size=\"14.00\">value = [2, 3]</text>\n",
       "<text text-anchor=\"start\" x=\"114.5\" y=\"-227.3\" font-family=\"Helvetica,sans-Serif\" font-size=\"14.00\">class = IWVR</text>\n",
       "</g>\n",
       "<!-- 0&#45;&gt;1 -->\n",
       "<g id=\"edge1\" class=\"edge\"><title>0&#45;&gt;1</title>\n",
       "<path fill=\"none\" stroke=\"black\" d=\"M217.514,-334.405C209.939,-325.119 201.769,-315.104 193.935,-305.5\"/>\n",
       "<polygon fill=\"black\" stroke=\"black\" points=\"196.486,-303.092 187.453,-297.555 191.062,-307.517 196.486,-303.092\"/>\n",
       "<text text-anchor=\"middle\" x=\"184.93\" y=\"-318.728\" font-family=\"Helvetica,sans-Serif\" font-size=\"14.00\">True</text>\n",
       "</g>\n",
       "<!-- 4 -->\n",
       "<g id=\"node5\" class=\"node\"><title>4</title>\n",
       "<path fill=\"#e58139\" fill-opacity=\"0.949020\" stroke=\"black\" d=\"M436,-297.5C436,-297.5 250,-297.5 250,-297.5 244,-297.5 238,-291.5 238,-285.5 238,-285.5 238,-230.5 238,-230.5 238,-224.5 244,-218.5 250,-218.5 250,-218.5 436,-218.5 436,-218.5 442,-218.5 448,-224.5 448,-230.5 448,-230.5 448,-285.5 448,-285.5 448,-291.5 442,-297.5 436,-297.5\"/>\n",
       "<text text-anchor=\"start\" x=\"246.5\" y=\"-283.3\" font-family=\"Helvetica,sans-Serif\" font-size=\"14.00\">Physical Activity Ranking ≤ 17.5</text>\n",
       "<text text-anchor=\"start\" x=\"307.5\" y=\"-269.3\" font-family=\"Helvetica,sans-Serif\" font-size=\"14.00\">gini = 0.095</text>\n",
       "<text text-anchor=\"start\" x=\"302\" y=\"-255.3\" font-family=\"Helvetica,sans-Serif\" font-size=\"14.00\">samples = 20</text>\n",
       "<text text-anchor=\"start\" x=\"300\" y=\"-241.3\" font-family=\"Helvetica,sans-Serif\" font-size=\"14.00\">value = [19, 1]</text>\n",
       "<text text-anchor=\"start\" x=\"299\" y=\"-227.3\" font-family=\"Helvetica,sans-Serif\" font-size=\"14.00\">class = Others</text>\n",
       "</g>\n",
       "<!-- 0&#45;&gt;4 -->\n",
       "<g id=\"edge4\" class=\"edge\"><title>0&#45;&gt;4</title>\n",
       "<path fill=\"none\" stroke=\"black\" d=\"M280.824,-334.405C288.481,-325.119 296.739,-315.104 304.658,-305.5\"/>\n",
       "<polygon fill=\"black\" stroke=\"black\" points=\"307.547,-307.498 311.209,-297.555 302.146,-303.044 307.547,-307.498\"/>\n",
       "<text text-anchor=\"middle\" x=\"313.601\" y=\"-318.741\" font-family=\"Helvetica,sans-Serif\" font-size=\"14.00\">False</text>\n",
       "</g>\n",
       "<!-- 2 -->\n",
       "<g id=\"node3\" class=\"node\"><title>2</title>\n",
       "<path fill=\"#e58139\" stroke=\"black\" d=\"M92.25,-174.5C92.25,-174.5 11.75,-174.5 11.75,-174.5 5.75,-174.5 -0.25,-168.5 -0.25,-162.5 -0.25,-162.5 -0.25,-121.5 -0.25,-121.5 -0.25,-115.5 5.75,-109.5 11.75,-109.5 11.75,-109.5 92.25,-109.5 92.25,-109.5 98.25,-109.5 104.25,-115.5 104.25,-121.5 104.25,-121.5 104.25,-162.5 104.25,-162.5 104.25,-168.5 98.25,-174.5 92.25,-174.5\"/>\n",
       "<text text-anchor=\"start\" x=\"24\" y=\"-160.3\" font-family=\"Helvetica,sans-Serif\" font-size=\"14.00\">gini = 0.0</text>\n",
       "<text text-anchor=\"start\" x=\"14.5\" y=\"-146.3\" font-family=\"Helvetica,sans-Serif\" font-size=\"14.00\">samples = 2</text>\n",
       "<text text-anchor=\"start\" x=\"12.5\" y=\"-132.3\" font-family=\"Helvetica,sans-Serif\" font-size=\"14.00\">value = [2, 0]</text>\n",
       "<text text-anchor=\"start\" x=\"8\" y=\"-118.3\" font-family=\"Helvetica,sans-Serif\" font-size=\"14.00\">class = Others</text>\n",
       "</g>\n",
       "<!-- 1&#45;&gt;2 -->\n",
       "<g id=\"edge2\" class=\"edge\"><title>1&#45;&gt;2</title>\n",
       "<path fill=\"none\" stroke=\"black\" d=\"M120.79,-218.405C110.156,-206.748 98.4714,-193.94 87.7987,-182.241\"/>\n",
       "<polygon fill=\"black\" stroke=\"black\" points=\"90.2779,-179.765 80.9525,-174.736 85.1065,-184.483 90.2779,-179.765\"/>\n",
       "</g>\n",
       "<!-- 3 -->\n",
       "<g id=\"node4\" class=\"node\"><title>3</title>\n",
       "<path fill=\"#399de5\" stroke=\"black\" d=\"M211,-174.5C211,-174.5 135,-174.5 135,-174.5 129,-174.5 123,-168.5 123,-162.5 123,-162.5 123,-121.5 123,-121.5 123,-115.5 129,-109.5 135,-109.5 135,-109.5 211,-109.5 211,-109.5 217,-109.5 223,-115.5 223,-121.5 223,-121.5 223,-162.5 223,-162.5 223,-168.5 217,-174.5 211,-174.5\"/>\n",
       "<text text-anchor=\"start\" x=\"145\" y=\"-160.3\" font-family=\"Helvetica,sans-Serif\" font-size=\"14.00\">gini = 0.0</text>\n",
       "<text text-anchor=\"start\" x=\"135.5\" y=\"-146.3\" font-family=\"Helvetica,sans-Serif\" font-size=\"14.00\">samples = 3</text>\n",
       "<text text-anchor=\"start\" x=\"133.5\" y=\"-132.3\" font-family=\"Helvetica,sans-Serif\" font-size=\"14.00\">value = [0, 3]</text>\n",
       "<text text-anchor=\"start\" x=\"131.5\" y=\"-118.3\" font-family=\"Helvetica,sans-Serif\" font-size=\"14.00\">class = IWVR</text>\n",
       "</g>\n",
       "<!-- 1&#45;&gt;3 -->\n",
       "<g id=\"edge3\" class=\"edge\"><title>1&#45;&gt;3</title>\n",
       "<path fill=\"none\" stroke=\"black\" d=\"M161.755,-218.405C163.361,-207.636 165.114,-195.885 166.747,-184.933\"/>\n",
       "<polygon fill=\"black\" stroke=\"black\" points=\"170.254,-185.143 168.267,-174.736 163.331,-184.111 170.254,-185.143\"/>\n",
       "</g>\n",
       "<!-- 5 -->\n",
       "<g id=\"node6\" class=\"node\"><title>5</title>\n",
       "<path fill=\"#e58139\" stroke=\"black\" d=\"M367.25,-174.5C367.25,-174.5 286.75,-174.5 286.75,-174.5 280.75,-174.5 274.75,-168.5 274.75,-162.5 274.75,-162.5 274.75,-121.5 274.75,-121.5 274.75,-115.5 280.75,-109.5 286.75,-109.5 286.75,-109.5 367.25,-109.5 367.25,-109.5 373.25,-109.5 379.25,-115.5 379.25,-121.5 379.25,-121.5 379.25,-162.5 379.25,-162.5 379.25,-168.5 373.25,-174.5 367.25,-174.5\"/>\n",
       "<text text-anchor=\"start\" x=\"299\" y=\"-160.3\" font-family=\"Helvetica,sans-Serif\" font-size=\"14.00\">gini = 0.0</text>\n",
       "<text text-anchor=\"start\" x=\"286\" y=\"-146.3\" font-family=\"Helvetica,sans-Serif\" font-size=\"14.00\">samples = 15</text>\n",
       "<text text-anchor=\"start\" x=\"284\" y=\"-132.3\" font-family=\"Helvetica,sans-Serif\" font-size=\"14.00\">value = [15, 0]</text>\n",
       "<text text-anchor=\"start\" x=\"283\" y=\"-118.3\" font-family=\"Helvetica,sans-Serif\" font-size=\"14.00\">class = Others</text>\n",
       "</g>\n",
       "<!-- 4&#45;&gt;5 -->\n",
       "<g id=\"edge5\" class=\"edge\"><title>4&#45;&gt;5</title>\n",
       "<path fill=\"none\" stroke=\"black\" d=\"M337.583,-218.405C336.072,-207.636 334.422,-195.885 332.885,-184.933\"/>\n",
       "<polygon fill=\"black\" stroke=\"black\" points=\"336.31,-184.153 331.454,-174.736 329.378,-185.126 336.31,-184.153\"/>\n",
       "</g>\n",
       "<!-- 6 -->\n",
       "<g id=\"node7\" class=\"node\"><title>6</title>\n",
       "<path fill=\"#e58139\" fill-opacity=\"0.749020\" stroke=\"black\" d=\"M594,-181.5C594,-181.5 410,-181.5 410,-181.5 404,-181.5 398,-175.5 398,-169.5 398,-169.5 398,-114.5 398,-114.5 398,-108.5 404,-102.5 410,-102.5 410,-102.5 594,-102.5 594,-102.5 600,-102.5 606,-108.5 606,-114.5 606,-114.5 606,-169.5 606,-169.5 606,-175.5 600,-181.5 594,-181.5\"/>\n",
       "<text text-anchor=\"start\" x=\"406.5\" y=\"-167.3\" font-family=\"Helvetica,sans-Serif\" font-size=\"14.00\">Esophageal Cancer LQ ≤ 4.445</text>\n",
       "<text text-anchor=\"start\" x=\"470\" y=\"-153.3\" font-family=\"Helvetica,sans-Serif\" font-size=\"14.00\">gini = 0.32</text>\n",
       "<text text-anchor=\"start\" x=\"464.5\" y=\"-139.3\" font-family=\"Helvetica,sans-Serif\" font-size=\"14.00\">samples = 5</text>\n",
       "<text text-anchor=\"start\" x=\"462.5\" y=\"-125.3\" font-family=\"Helvetica,sans-Serif\" font-size=\"14.00\">value = [4, 1]</text>\n",
       "<text text-anchor=\"start\" x=\"458\" y=\"-111.3\" font-family=\"Helvetica,sans-Serif\" font-size=\"14.00\">class = Others</text>\n",
       "</g>\n",
       "<!-- 4&#45;&gt;6 -->\n",
       "<g id=\"edge6\" class=\"edge\"><title>4&#45;&gt;6</title>\n",
       "<path fill=\"none\" stroke=\"black\" d=\"M396.83,-218.405C410.687,-208.469 425.71,-197.698 439.948,-187.49\"/>\n",
       "<polygon fill=\"black\" stroke=\"black\" points=\"442.138,-190.227 448.225,-181.555 438.059,-184.538 442.138,-190.227\"/>\n",
       "</g>\n",
       "<!-- 7 -->\n",
       "<g id=\"node8\" class=\"node\"><title>7</title>\n",
       "<path fill=\"#e58139\" stroke=\"black\" d=\"M481.25,-65.5C481.25,-65.5 400.75,-65.5 400.75,-65.5 394.75,-65.5 388.75,-59.5 388.75,-53.5 388.75,-53.5 388.75,-12.5 388.75,-12.5 388.75,-6.5 394.75,-0.5 400.75,-0.5 400.75,-0.5 481.25,-0.5 481.25,-0.5 487.25,-0.5 493.25,-6.5 493.25,-12.5 493.25,-12.5 493.25,-53.5 493.25,-53.5 493.25,-59.5 487.25,-65.5 481.25,-65.5\"/>\n",
       "<text text-anchor=\"start\" x=\"413\" y=\"-51.3\" font-family=\"Helvetica,sans-Serif\" font-size=\"14.00\">gini = 0.0</text>\n",
       "<text text-anchor=\"start\" x=\"403.5\" y=\"-37.3\" font-family=\"Helvetica,sans-Serif\" font-size=\"14.00\">samples = 4</text>\n",
       "<text text-anchor=\"start\" x=\"401.5\" y=\"-23.3\" font-family=\"Helvetica,sans-Serif\" font-size=\"14.00\">value = [4, 0]</text>\n",
       "<text text-anchor=\"start\" x=\"397\" y=\"-9.3\" font-family=\"Helvetica,sans-Serif\" font-size=\"14.00\">class = Others</text>\n",
       "</g>\n",
       "<!-- 6&#45;&gt;7 -->\n",
       "<g id=\"edge7\" class=\"edge\"><title>6&#45;&gt;7</title>\n",
       "<path fill=\"none\" stroke=\"black\" d=\"M479.978,-102.371C474.807,-93.3016 469.284,-83.6134 464.07,-74.4664\"/>\n",
       "<polygon fill=\"black\" stroke=\"black\" points=\"466.976,-72.4968 458.982,-65.5428 460.894,-75.9637 466.976,-72.4968\"/>\n",
       "</g>\n",
       "<!-- 8 -->\n",
       "<g id=\"node9\" class=\"node\"><title>8</title>\n",
       "<path fill=\"#399de5\" stroke=\"black\" d=\"M600,-65.5C600,-65.5 524,-65.5 524,-65.5 518,-65.5 512,-59.5 512,-53.5 512,-53.5 512,-12.5 512,-12.5 512,-6.5 518,-0.5 524,-0.5 524,-0.5 600,-0.5 600,-0.5 606,-0.5 612,-6.5 612,-12.5 612,-12.5 612,-53.5 612,-53.5 612,-59.5 606,-65.5 600,-65.5\"/>\n",
       "<text text-anchor=\"start\" x=\"534\" y=\"-51.3\" font-family=\"Helvetica,sans-Serif\" font-size=\"14.00\">gini = 0.0</text>\n",
       "<text text-anchor=\"start\" x=\"524.5\" y=\"-37.3\" font-family=\"Helvetica,sans-Serif\" font-size=\"14.00\">samples = 1</text>\n",
       "<text text-anchor=\"start\" x=\"522.5\" y=\"-23.3\" font-family=\"Helvetica,sans-Serif\" font-size=\"14.00\">value = [0, 1]</text>\n",
       "<text text-anchor=\"start\" x=\"520.5\" y=\"-9.3\" font-family=\"Helvetica,sans-Serif\" font-size=\"14.00\">class = IWVR</text>\n",
       "</g>\n",
       "<!-- 6&#45;&gt;8 -->\n",
       "<g id=\"edge8\" class=\"edge\"><title>6&#45;&gt;8</title>\n",
       "<path fill=\"none\" stroke=\"black\" d=\"M523.661,-102.371C528.747,-93.3016 534.179,-83.6134 539.309,-74.4664\"/>\n",
       "<polygon fill=\"black\" stroke=\"black\" points=\"542.474,-75.977 544.312,-65.5428 536.369,-72.5533 542.474,-75.977\"/>\n",
       "</g>\n",
       "</g>\n",
       "</svg>\n"
      ],
      "text/plain": [
       "<graphviz.files.Source at 0x7f43184cd710>"
      ]
     },
     "execution_count": 46,
     "metadata": {},
     "output_type": "execute_result"
    }
   ],
   "source": [
    "decision_tree_graph(health, 'IWVR')"
   ]
  },
  {
   "cell_type": "code",
   "execution_count": 47,
   "metadata": {
    "ExecuteTime": {
     "end_time": "2018-09-11T21:38:57.122445",
     "start_time": "2018-09-11T21:38:57.075909"
    },
    "collapsed": false
   },
   "outputs": [
    {
     "data": {
      "image/svg+xml": [
       "<?xml version=\"1.0\" encoding=\"UTF-8\" standalone=\"no\"?>\n",
       "<!DOCTYPE svg PUBLIC \"-//W3C//DTD SVG 1.1//EN\"\n",
       " \"http://www.w3.org/Graphics/SVG/1.1/DTD/svg11.dtd\">\n",
       "<!-- Generated by graphviz version 2.30.1 (20150306.0020)\n",
       " -->\n",
       "<!-- Title: Tree Pages: 1 -->\n",
       "<svg width=\"444pt\" height=\"538pt\"\n",
       " viewBox=\"0.00 0.00 444.00 538.00\" xmlns=\"http://www.w3.org/2000/svg\" xmlns:xlink=\"http://www.w3.org/1999/xlink\">\n",
       "<g id=\"graph0\" class=\"graph\" transform=\"scale(1 1) rotate(0) translate(4 534)\">\n",
       "<title>Tree</title>\n",
       "<polygon fill=\"white\" stroke=\"white\" points=\"-4,5 -4,-534 441,-534 441,5 -4,5\"/>\n",
       "<!-- 0 -->\n",
       "<g id=\"node1\" class=\"node\"><title>0</title>\n",
       "<path fill=\"#e58139\" fill-opacity=\"0.858824\" stroke=\"black\" d=\"M225,-529.5C225,-529.5 49,-529.5 49,-529.5 43,-529.5 37,-523.5 37,-517.5 37,-517.5 37,-462.5 37,-462.5 37,-456.5 43,-450.5 49,-450.5 49,-450.5 225,-450.5 225,-450.5 231,-450.5 237,-456.5 237,-462.5 237,-462.5 237,-517.5 237,-517.5 237,-523.5 231,-529.5 225,-529.5\"/>\n",
       "<text text-anchor=\"start\" x=\"45.5\" y=\"-515.3\" font-family=\"Helvetica,sans-Serif\" font-size=\"14.00\">Transportation Ranking ≤ 13.5</text>\n",
       "<text text-anchor=\"start\" x=\"101.5\" y=\"-501.3\" font-family=\"Helvetica,sans-Serif\" font-size=\"14.00\">gini = 0.219</text>\n",
       "<text text-anchor=\"start\" x=\"96\" y=\"-487.3\" font-family=\"Helvetica,sans-Serif\" font-size=\"14.00\">samples = 24</text>\n",
       "<text text-anchor=\"start\" x=\"94\" y=\"-473.3\" font-family=\"Helvetica,sans-Serif\" font-size=\"14.00\">value = [21, 3]</text>\n",
       "<text text-anchor=\"start\" x=\"93\" y=\"-459.3\" font-family=\"Helvetica,sans-Serif\" font-size=\"14.00\">class = Others</text>\n",
       "</g>\n",
       "<!-- 1 -->\n",
       "<g id=\"node2\" class=\"node\"><title>1</title>\n",
       "<path fill=\"#e58139\" stroke=\"black\" d=\"M92.25,-406.5C92.25,-406.5 11.75,-406.5 11.75,-406.5 5.75,-406.5 -0.25,-400.5 -0.25,-394.5 -0.25,-394.5 -0.25,-353.5 -0.25,-353.5 -0.25,-347.5 5.75,-341.5 11.75,-341.5 11.75,-341.5 92.25,-341.5 92.25,-341.5 98.25,-341.5 104.25,-347.5 104.25,-353.5 104.25,-353.5 104.25,-394.5 104.25,-394.5 104.25,-400.5 98.25,-406.5 92.25,-406.5\"/>\n",
       "<text text-anchor=\"start\" x=\"24\" y=\"-392.3\" font-family=\"Helvetica,sans-Serif\" font-size=\"14.00\">gini = 0.0</text>\n",
       "<text text-anchor=\"start\" x=\"11\" y=\"-378.3\" font-family=\"Helvetica,sans-Serif\" font-size=\"14.00\">samples = 12</text>\n",
       "<text text-anchor=\"start\" x=\"9\" y=\"-364.3\" font-family=\"Helvetica,sans-Serif\" font-size=\"14.00\">value = [12, 0]</text>\n",
       "<text text-anchor=\"start\" x=\"8\" y=\"-350.3\" font-family=\"Helvetica,sans-Serif\" font-size=\"14.00\">class = Others</text>\n",
       "</g>\n",
       "<!-- 0&#45;&gt;1 -->\n",
       "<g id=\"edge1\" class=\"edge\"><title>0&#45;&gt;1</title>\n",
       "<path fill=\"none\" stroke=\"black\" d=\"M108.223,-450.405C99.6966,-438.97 90.3449,-426.427 81.7579,-414.911\"/>\n",
       "<polygon fill=\"black\" stroke=\"black\" points=\"84.4465,-412.661 75.6631,-406.736 78.8347,-416.845 84.4465,-412.661\"/>\n",
       "<text text-anchor=\"middle\" x=\"72.058\" y=\"-427.775\" font-family=\"Helvetica,sans-Serif\" font-size=\"14.00\">True</text>\n",
       "</g>\n",
       "<!-- 2 -->\n",
       "<g id=\"node3\" class=\"node\"><title>2</title>\n",
       "<path fill=\"#e58139\" fill-opacity=\"0.666667\" stroke=\"black\" d=\"M311,-413.5C311,-413.5 135,-413.5 135,-413.5 129,-413.5 123,-407.5 123,-401.5 123,-401.5 123,-346.5 123,-346.5 123,-340.5 129,-334.5 135,-334.5 135,-334.5 311,-334.5 311,-334.5 317,-334.5 323,-340.5 323,-346.5 323,-346.5 323,-401.5 323,-401.5 323,-407.5 317,-413.5 311,-413.5\"/>\n",
       "<text text-anchor=\"start\" x=\"131.5\" y=\"-399.3\" font-family=\"Helvetica,sans-Serif\" font-size=\"14.00\">Transportation Ranking ≤ 15.5</text>\n",
       "<text text-anchor=\"start\" x=\"187.5\" y=\"-385.3\" font-family=\"Helvetica,sans-Serif\" font-size=\"14.00\">gini = 0.375</text>\n",
       "<text text-anchor=\"start\" x=\"182\" y=\"-371.3\" font-family=\"Helvetica,sans-Serif\" font-size=\"14.00\">samples = 12</text>\n",
       "<text text-anchor=\"start\" x=\"183.5\" y=\"-357.3\" font-family=\"Helvetica,sans-Serif\" font-size=\"14.00\">value = [9, 3]</text>\n",
       "<text text-anchor=\"start\" x=\"179\" y=\"-343.3\" font-family=\"Helvetica,sans-Serif\" font-size=\"14.00\">class = Others</text>\n",
       "</g>\n",
       "<!-- 0&#45;&gt;2 -->\n",
       "<g id=\"edge2\" class=\"edge\"><title>0&#45;&gt;2</title>\n",
       "<path fill=\"none\" stroke=\"black\" d=\"M166.116,-450.405C173.05,-441.212 180.525,-431.304 187.703,-421.789\"/>\n",
       "<polygon fill=\"black\" stroke=\"black\" points=\"190.686,-423.646 193.914,-413.555 185.098,-419.431 190.686,-423.646\"/>\n",
       "<text text-anchor=\"middle\" x=\"197.381\" y=\"-434.614\" font-family=\"Helvetica,sans-Serif\" font-size=\"14.00\">False</text>\n",
       "</g>\n",
       "<!-- 3 -->\n",
       "<g id=\"node4\" class=\"node\"><title>3</title>\n",
       "<path fill=\"#399de5\" stroke=\"black\" d=\"M174,-290.5C174,-290.5 98,-290.5 98,-290.5 92,-290.5 86,-284.5 86,-278.5 86,-278.5 86,-237.5 86,-237.5 86,-231.5 92,-225.5 98,-225.5 98,-225.5 174,-225.5 174,-225.5 180,-225.5 186,-231.5 186,-237.5 186,-237.5 186,-278.5 186,-278.5 186,-284.5 180,-290.5 174,-290.5\"/>\n",
       "<text text-anchor=\"start\" x=\"108\" y=\"-276.3\" font-family=\"Helvetica,sans-Serif\" font-size=\"14.00\">gini = 0.0</text>\n",
       "<text text-anchor=\"start\" x=\"98.5\" y=\"-262.3\" font-family=\"Helvetica,sans-Serif\" font-size=\"14.00\">samples = 2</text>\n",
       "<text text-anchor=\"start\" x=\"96.5\" y=\"-248.3\" font-family=\"Helvetica,sans-Serif\" font-size=\"14.00\">value = [0, 2]</text>\n",
       "<text text-anchor=\"start\" x=\"94.5\" y=\"-234.3\" font-family=\"Helvetica,sans-Serif\" font-size=\"14.00\">class = IWVR</text>\n",
       "</g>\n",
       "<!-- 2&#45;&gt;3 -->\n",
       "<g id=\"edge3\" class=\"edge\"><title>2&#45;&gt;3</title>\n",
       "<path fill=\"none\" stroke=\"black\" d=\"M193.546,-334.405C184.819,-322.97 175.247,-310.427 166.458,-298.911\"/>\n",
       "<polygon fill=\"black\" stroke=\"black\" points=\"169.069,-296.563 160.22,-290.736 163.504,-300.809 169.069,-296.563\"/>\n",
       "</g>\n",
       "<!-- 4 -->\n",
       "<g id=\"node5\" class=\"node\"><title>4</title>\n",
       "<path fill=\"#e58139\" fill-opacity=\"0.890196\" stroke=\"black\" d=\"M403.25,-297.5C403.25,-297.5 216.75,-297.5 216.75,-297.5 210.75,-297.5 204.75,-291.5 204.75,-285.5 204.75,-285.5 204.75,-230.5 204.75,-230.5 204.75,-224.5 210.75,-218.5 216.75,-218.5 216.75,-218.5 403.25,-218.5 403.25,-218.5 409.25,-218.5 415.25,-224.5 415.25,-230.5 415.25,-230.5 415.25,-285.5 415.25,-285.5 415.25,-291.5 409.25,-297.5 403.25,-297.5\"/>\n",
       "<text text-anchor=\"start\" x=\"213\" y=\"-283.3\" font-family=\"Helvetica,sans-Serif\" font-size=\"14.00\">Vehicle Crashes per 1,000 ≤ 5.8</text>\n",
       "<text text-anchor=\"start\" x=\"278\" y=\"-269.3\" font-family=\"Helvetica,sans-Serif\" font-size=\"14.00\">gini = 0.18</text>\n",
       "<text text-anchor=\"start\" x=\"269\" y=\"-255.3\" font-family=\"Helvetica,sans-Serif\" font-size=\"14.00\">samples = 10</text>\n",
       "<text text-anchor=\"start\" x=\"270.5\" y=\"-241.3\" font-family=\"Helvetica,sans-Serif\" font-size=\"14.00\">value = [9, 1]</text>\n",
       "<text text-anchor=\"start\" x=\"266\" y=\"-227.3\" font-family=\"Helvetica,sans-Serif\" font-size=\"14.00\">class = Others</text>\n",
       "</g>\n",
       "<!-- 2&#45;&gt;4 -->\n",
       "<g id=\"edge4\" class=\"edge\"><title>2&#45;&gt;4</title>\n",
       "<path fill=\"none\" stroke=\"black\" d=\"M252.454,-334.405C259.47,-325.212 267.031,-315.304 274.293,-305.789\"/>\n",
       "<polygon fill=\"black\" stroke=\"black\" points=\"277.292,-307.628 280.576,-297.555 271.727,-303.382 277.292,-307.628\"/>\n",
       "</g>\n",
       "<!-- 5 -->\n",
       "<g id=\"node6\" class=\"node\"><title>5</title>\n",
       "<path fill=\"none\" stroke=\"black\" d=\"M301.25,-181.5C301.25,-181.5 170.75,-181.5 170.75,-181.5 164.75,-181.5 158.75,-175.5 158.75,-169.5 158.75,-169.5 158.75,-114.5 158.75,-114.5 158.75,-108.5 164.75,-102.5 170.75,-102.5 170.75,-102.5 301.25,-102.5 301.25,-102.5 307.25,-102.5 313.25,-108.5 313.25,-114.5 313.25,-114.5 313.25,-169.5 313.25,-169.5 313.25,-175.5 307.25,-181.5 301.25,-181.5\"/>\n",
       "<text text-anchor=\"start\" x=\"167\" y=\"-167.3\" font-family=\"Helvetica,sans-Serif\" font-size=\"14.00\">Housing Ranking ≤ 5.0</text>\n",
       "<text text-anchor=\"start\" x=\"208\" y=\"-153.3\" font-family=\"Helvetica,sans-Serif\" font-size=\"14.00\">gini = 0.5</text>\n",
       "<text text-anchor=\"start\" x=\"198.5\" y=\"-139.3\" font-family=\"Helvetica,sans-Serif\" font-size=\"14.00\">samples = 2</text>\n",
       "<text text-anchor=\"start\" x=\"196.5\" y=\"-125.3\" font-family=\"Helvetica,sans-Serif\" font-size=\"14.00\">value = [1, 1]</text>\n",
       "<text text-anchor=\"start\" x=\"192\" y=\"-111.3\" font-family=\"Helvetica,sans-Serif\" font-size=\"14.00\">class = Others</text>\n",
       "</g>\n",
       "<!-- 4&#45;&gt;5 -->\n",
       "<g id=\"edge5\" class=\"edge\"><title>4&#45;&gt;5</title>\n",
       "<path fill=\"none\" stroke=\"black\" d=\"M284.947,-218.405C279.04,-209.305 272.678,-199.504 266.559,-190.077\"/>\n",
       "<polygon fill=\"black\" stroke=\"black\" points=\"269.408,-188.038 261.027,-181.555 263.536,-191.849 269.408,-188.038\"/>\n",
       "</g>\n",
       "<!-- 8 -->\n",
       "<g id=\"node9\" class=\"node\"><title>8</title>\n",
       "<path fill=\"#e58139\" stroke=\"black\" d=\"M424.25,-174.5C424.25,-174.5 343.75,-174.5 343.75,-174.5 337.75,-174.5 331.75,-168.5 331.75,-162.5 331.75,-162.5 331.75,-121.5 331.75,-121.5 331.75,-115.5 337.75,-109.5 343.75,-109.5 343.75,-109.5 424.25,-109.5 424.25,-109.5 430.25,-109.5 436.25,-115.5 436.25,-121.5 436.25,-121.5 436.25,-162.5 436.25,-162.5 436.25,-168.5 430.25,-174.5 424.25,-174.5\"/>\n",
       "<text text-anchor=\"start\" x=\"356\" y=\"-160.3\" font-family=\"Helvetica,sans-Serif\" font-size=\"14.00\">gini = 0.0</text>\n",
       "<text text-anchor=\"start\" x=\"346.5\" y=\"-146.3\" font-family=\"Helvetica,sans-Serif\" font-size=\"14.00\">samples = 8</text>\n",
       "<text text-anchor=\"start\" x=\"344.5\" y=\"-132.3\" font-family=\"Helvetica,sans-Serif\" font-size=\"14.00\">value = [8, 0]</text>\n",
       "<text text-anchor=\"start\" x=\"340\" y=\"-118.3\" font-family=\"Helvetica,sans-Serif\" font-size=\"14.00\">class = Others</text>\n",
       "</g>\n",
       "<!-- 4&#45;&gt;8 -->\n",
       "<g id=\"edge8\" class=\"edge\"><title>4&#45;&gt;8</title>\n",
       "<path fill=\"none\" stroke=\"black\" d=\"M335.053,-218.405C342.404,-207.081 350.459,-194.671 357.875,-183.246\"/>\n",
       "<polygon fill=\"black\" stroke=\"black\" points=\"360.89,-185.03 363.399,-174.736 355.019,-181.219 360.89,-185.03\"/>\n",
       "</g>\n",
       "<!-- 6 -->\n",
       "<g id=\"node7\" class=\"node\"><title>6</title>\n",
       "<path fill=\"#e58139\" stroke=\"black\" d=\"M216.25,-65.5C216.25,-65.5 135.75,-65.5 135.75,-65.5 129.75,-65.5 123.75,-59.5 123.75,-53.5 123.75,-53.5 123.75,-12.5 123.75,-12.5 123.75,-6.5 129.75,-0.5 135.75,-0.5 135.75,-0.5 216.25,-0.5 216.25,-0.5 222.25,-0.5 228.25,-6.5 228.25,-12.5 228.25,-12.5 228.25,-53.5 228.25,-53.5 228.25,-59.5 222.25,-65.5 216.25,-65.5\"/>\n",
       "<text text-anchor=\"start\" x=\"148\" y=\"-51.3\" font-family=\"Helvetica,sans-Serif\" font-size=\"14.00\">gini = 0.0</text>\n",
       "<text text-anchor=\"start\" x=\"138.5\" y=\"-37.3\" font-family=\"Helvetica,sans-Serif\" font-size=\"14.00\">samples = 1</text>\n",
       "<text text-anchor=\"start\" x=\"136.5\" y=\"-23.3\" font-family=\"Helvetica,sans-Serif\" font-size=\"14.00\">value = [1, 0]</text>\n",
       "<text text-anchor=\"start\" x=\"132\" y=\"-9.3\" font-family=\"Helvetica,sans-Serif\" font-size=\"14.00\">class = Others</text>\n",
       "</g>\n",
       "<!-- 5&#45;&gt;6 -->\n",
       "<g id=\"edge6\" class=\"edge\"><title>5&#45;&gt;6</title>\n",
       "<path fill=\"none\" stroke=\"black\" d=\"M214.339,-102.371C209.253,-93.3016 203.821,-83.6134 198.691,-74.4664\"/>\n",
       "<polygon fill=\"black\" stroke=\"black\" points=\"201.631,-72.5533 193.688,-65.5428 195.526,-75.977 201.631,-72.5533\"/>\n",
       "</g>\n",
       "<!-- 7 -->\n",
       "<g id=\"node8\" class=\"node\"><title>7</title>\n",
       "<path fill=\"#399de5\" stroke=\"black\" d=\"M335,-65.5C335,-65.5 259,-65.5 259,-65.5 253,-65.5 247,-59.5 247,-53.5 247,-53.5 247,-12.5 247,-12.5 247,-6.5 253,-0.5 259,-0.5 259,-0.5 335,-0.5 335,-0.5 341,-0.5 347,-6.5 347,-12.5 347,-12.5 347,-53.5 347,-53.5 347,-59.5 341,-65.5 335,-65.5\"/>\n",
       "<text text-anchor=\"start\" x=\"269\" y=\"-51.3\" font-family=\"Helvetica,sans-Serif\" font-size=\"14.00\">gini = 0.0</text>\n",
       "<text text-anchor=\"start\" x=\"259.5\" y=\"-37.3\" font-family=\"Helvetica,sans-Serif\" font-size=\"14.00\">samples = 1</text>\n",
       "<text text-anchor=\"start\" x=\"257.5\" y=\"-23.3\" font-family=\"Helvetica,sans-Serif\" font-size=\"14.00\">value = [0, 1]</text>\n",
       "<text text-anchor=\"start\" x=\"255.5\" y=\"-9.3\" font-family=\"Helvetica,sans-Serif\" font-size=\"14.00\">class = IWVR</text>\n",
       "</g>\n",
       "<!-- 5&#45;&gt;7 -->\n",
       "<g id=\"edge7\" class=\"edge\"><title>5&#45;&gt;7</title>\n",
       "<path fill=\"none\" stroke=\"black\" d=\"M258.022,-102.371C263.193,-93.3016 268.716,-83.6134 273.93,-74.4664\"/>\n",
       "<polygon fill=\"black\" stroke=\"black\" points=\"277.106,-75.9637 279.018,-65.5428 271.024,-72.4968 277.106,-75.9637\"/>\n",
       "</g>\n",
       "</g>\n",
       "</svg>\n"
      ],
      "text/plain": [
       "<graphviz.files.Source at 0x7f42ed795828>"
      ]
     },
     "execution_count": 47,
     "metadata": {},
     "output_type": "execute_result"
    }
   ],
   "source": [
    "decision_tree_graph(life, 'IWVR')"
   ]
  },
  {
   "cell_type": "code",
   "execution_count": 55,
   "metadata": {
    "ExecuteTime": {
     "end_time": "2018-09-11T21:44:25.180861",
     "start_time": "2018-09-11T21:44:25.142977"
    },
    "collapsed": false
   },
   "outputs": [
    {
     "data": {
      "text/html": [
       "<div>\n",
       "<table border=\"1\" class=\"dataframe\">\n",
       "  <thead>\n",
       "    <tr style=\"text-align: right;\">\n",
       "      <th>Variables</th>\n",
       "      <th>College Attainment</th>\n",
       "      <th>Median Household Income</th>\n",
       "      <th>Percent Living Below Poverty Line</th>\n",
       "      <th>Population</th>\n",
       "      <th>Population Density</th>\n",
       "      <th>Unemployment Rates</th>\n",
       "    </tr>\n",
       "    <tr>\n",
       "      <th>npu</th>\n",
       "      <th></th>\n",
       "      <th></th>\n",
       "      <th></th>\n",
       "      <th></th>\n",
       "      <th></th>\n",
       "      <th></th>\n",
       "    </tr>\n",
       "  </thead>\n",
       "  <tbody>\n",
       "    <tr>\n",
       "      <th>A</th>\n",
       "      <td>82</td>\n",
       "      <td>149648</td>\n",
       "      <td>4</td>\n",
       "      <td>14272</td>\n",
       "      <td>2</td>\n",
       "      <td>5</td>\n",
       "    </tr>\n",
       "    <tr>\n",
       "      <th>B</th>\n",
       "      <td>74</td>\n",
       "      <td>94982</td>\n",
       "      <td>8</td>\n",
       "      <td>44276</td>\n",
       "      <td>6.8</td>\n",
       "      <td>3</td>\n",
       "    </tr>\n",
       "    <tr>\n",
       "      <th>D</th>\n",
       "      <td>61</td>\n",
       "      <td>78426</td>\n",
       "      <td>17</td>\n",
       "      <td>12516</td>\n",
       "      <td>3</td>\n",
       "      <td>8</td>\n",
       "    </tr>\n",
       "    <tr>\n",
       "      <th>E</th>\n",
       "      <td>72</td>\n",
       "      <td>64081</td>\n",
       "      <td>17</td>\n",
       "      <td>43164</td>\n",
       "      <td>11.4</td>\n",
       "      <td>7</td>\n",
       "    </tr>\n",
       "    <tr>\n",
       "      <th>F</th>\n",
       "      <td>72</td>\n",
       "      <td>89898</td>\n",
       "      <td>11</td>\n",
       "      <td>21940</td>\n",
       "      <td>7.3</td>\n",
       "      <td>5</td>\n",
       "    </tr>\n",
       "  </tbody>\n",
       "</table>\n",
       "</div>"
      ],
      "text/plain": [
       "Variables College Attainment Median Household Income  \\\n",
       "npu                                                    \n",
       "A                         82                  149648   \n",
       "B                         74                   94982   \n",
       "D                         61                   78426   \n",
       "E                         72                   64081   \n",
       "F                         72                   89898   \n",
       "\n",
       "Variables Percent Living Below Poverty Line Population Population Density  \\\n",
       "npu                                                                         \n",
       "A                                         4      14272               2      \n",
       "B                                         8      44276             6.8      \n",
       "D                                        17      12516               3      \n",
       "E                                        17      43164            11.4      \n",
       "F                                        11      21940             7.3      \n",
       "\n",
       "Variables Unemployment Rates  \n",
       "npu                           \n",
       "A                          5  \n",
       "B                          3  \n",
       "D                          8  \n",
       "E                          7  \n",
       "F                          5  "
      ]
     },
     "execution_count": 55,
     "metadata": {},
     "output_type": "execute_result"
    }
   ],
   "source": [
    "def just_numeric(s):\n",
    "    import re\n",
    "    return re.sub(r'[a-zA-Z\\$,%]', '', s)\n",
    "    \n",
    "geo_numeric = geography[['College Attainment', 'Median Household Income',\n",
    "       'Percent Living Below Poverty Line', 'Population', 'Population Density', 'Unemployment Rates']] \\\n",
    "    .applymap(just_numeric)\n",
    "geo_numeric.head()"
   ]
  },
  {
   "cell_type": "code",
   "execution_count": 56,
   "metadata": {
    "ExecuteTime": {
     "end_time": "2018-09-11T21:44:39.405403",
     "start_time": "2018-09-11T21:44:39.361436"
    },
    "collapsed": false
   },
   "outputs": [
    {
     "data": {
      "image/svg+xml": [
       "<?xml version=\"1.0\" encoding=\"UTF-8\" standalone=\"no\"?>\n",
       "<!DOCTYPE svg PUBLIC \"-//W3C//DTD SVG 1.1//EN\"\n",
       " \"http://www.w3.org/Graphics/SVG/1.1/DTD/svg11.dtd\">\n",
       "<!-- Generated by graphviz version 2.30.1 (20150306.0020)\n",
       " -->\n",
       "<!-- Title: Tree Pages: 1 -->\n",
       "<svg width=\"421pt\" height=\"654pt\"\n",
       " viewBox=\"0.00 0.00 421.00 654.00\" xmlns=\"http://www.w3.org/2000/svg\" xmlns:xlink=\"http://www.w3.org/1999/xlink\">\n",
       "<g id=\"graph0\" class=\"graph\" transform=\"scale(1 1) rotate(0) translate(4 650)\">\n",
       "<title>Tree</title>\n",
       "<polygon fill=\"white\" stroke=\"white\" points=\"-4,5 -4,-650 418,-650 418,5 -4,5\"/>\n",
       "<!-- 0 -->\n",
       "<g id=\"node1\" class=\"node\"><title>0</title>\n",
       "<path fill=\"#e58139\" fill-opacity=\"0.800000\" stroke=\"black\" d=\"M363,-645.5C363,-645.5 215,-645.5 215,-645.5 209,-645.5 203,-639.5 203,-633.5 203,-633.5 203,-578.5 203,-578.5 203,-572.5 209,-566.5 215,-566.5 215,-566.5 363,-566.5 363,-566.5 369,-566.5 375,-572.5 375,-578.5 375,-578.5 375,-633.5 375,-633.5 375,-639.5 369,-645.5 363,-645.5\"/>\n",
       "<text text-anchor=\"start\" x=\"211.5\" y=\"-631.3\" font-family=\"Helvetica,sans-Serif\" font-size=\"14.00\">Population Density ≤ 6.15</text>\n",
       "<text text-anchor=\"start\" x=\"253.5\" y=\"-617.3\" font-family=\"Helvetica,sans-Serif\" font-size=\"14.00\">gini = 0.278</text>\n",
       "<text text-anchor=\"start\" x=\"248\" y=\"-603.3\" font-family=\"Helvetica,sans-Serif\" font-size=\"14.00\">samples = 24</text>\n",
       "<text text-anchor=\"start\" x=\"246\" y=\"-589.3\" font-family=\"Helvetica,sans-Serif\" font-size=\"14.00\">value = [20, 4]</text>\n",
       "<text text-anchor=\"start\" x=\"245\" y=\"-575.3\" font-family=\"Helvetica,sans-Serif\" font-size=\"14.00\">class = Others</text>\n",
       "</g>\n",
       "<!-- 1 -->\n",
       "<g id=\"node2\" class=\"node\"><title>1</title>\n",
       "<path fill=\"#e58139\" fill-opacity=\"0.635294\" stroke=\"black\" d=\"M278,-529.5C278,-529.5 156,-529.5 156,-529.5 150,-529.5 144,-523.5 144,-517.5 144,-517.5 144,-462.5 144,-462.5 144,-456.5 150,-450.5 156,-450.5 156,-450.5 278,-450.5 278,-450.5 284,-450.5 290,-456.5 290,-462.5 290,-462.5 290,-517.5 290,-517.5 290,-523.5 284,-529.5 278,-529.5\"/>\n",
       "<text text-anchor=\"start\" x=\"152.5\" y=\"-515.3\" font-family=\"Helvetica,sans-Serif\" font-size=\"14.00\">Population ≤ 19761.0</text>\n",
       "<text text-anchor=\"start\" x=\"181.5\" y=\"-501.3\" font-family=\"Helvetica,sans-Serif\" font-size=\"14.00\">gini = 0.391</text>\n",
       "<text text-anchor=\"start\" x=\"176\" y=\"-487.3\" font-family=\"Helvetica,sans-Serif\" font-size=\"14.00\">samples = 15</text>\n",
       "<text text-anchor=\"start\" x=\"174\" y=\"-473.3\" font-family=\"Helvetica,sans-Serif\" font-size=\"14.00\">value = [11, 4]</text>\n",
       "<text text-anchor=\"start\" x=\"173\" y=\"-459.3\" font-family=\"Helvetica,sans-Serif\" font-size=\"14.00\">class = Others</text>\n",
       "</g>\n",
       "<!-- 0&#45;&gt;1 -->\n",
       "<g id=\"edge1\" class=\"edge\"><title>0&#45;&gt;1</title>\n",
       "<path fill=\"none\" stroke=\"black\" d=\"M264.624,-566.405C258.877,-557.305 252.687,-547.504 246.733,-538.077\"/>\n",
       "<polygon fill=\"black\" stroke=\"black\" points=\"249.65,-536.141 241.351,-529.555 243.732,-539.879 249.65,-536.141\"/>\n",
       "<text text-anchor=\"middle\" x=\"235.844\" y=\"-550.241\" font-family=\"Helvetica,sans-Serif\" font-size=\"14.00\">True</text>\n",
       "</g>\n",
       "<!-- 10 -->\n",
       "<g id=\"node11\" class=\"node\"><title>10</title>\n",
       "<path fill=\"#e58139\" stroke=\"black\" d=\"M401.25,-522.5C401.25,-522.5 320.75,-522.5 320.75,-522.5 314.75,-522.5 308.75,-516.5 308.75,-510.5 308.75,-510.5 308.75,-469.5 308.75,-469.5 308.75,-463.5 314.75,-457.5 320.75,-457.5 320.75,-457.5 401.25,-457.5 401.25,-457.5 407.25,-457.5 413.25,-463.5 413.25,-469.5 413.25,-469.5 413.25,-510.5 413.25,-510.5 413.25,-516.5 407.25,-522.5 401.25,-522.5\"/>\n",
       "<text text-anchor=\"start\" x=\"333\" y=\"-508.3\" font-family=\"Helvetica,sans-Serif\" font-size=\"14.00\">gini = 0.0</text>\n",
       "<text text-anchor=\"start\" x=\"323.5\" y=\"-494.3\" font-family=\"Helvetica,sans-Serif\" font-size=\"14.00\">samples = 9</text>\n",
       "<text text-anchor=\"start\" x=\"321.5\" y=\"-480.3\" font-family=\"Helvetica,sans-Serif\" font-size=\"14.00\">value = [9, 0]</text>\n",
       "<text text-anchor=\"start\" x=\"317\" y=\"-466.3\" font-family=\"Helvetica,sans-Serif\" font-size=\"14.00\">class = Others</text>\n",
       "</g>\n",
       "<!-- 0&#45;&gt;10 -->\n",
       "<g id=\"edge10\" class=\"edge\"><title>0&#45;&gt;10</title>\n",
       "<path fill=\"none\" stroke=\"black\" d=\"M313.376,-566.405C320.528,-555.081 328.366,-542.671 335.581,-531.246\"/>\n",
       "<polygon fill=\"black\" stroke=\"black\" points=\"338.575,-533.06 340.956,-522.736 332.657,-529.322 338.575,-533.06\"/>\n",
       "<text text-anchor=\"middle\" x=\"346.462\" y=\"-543.422\" font-family=\"Helvetica,sans-Serif\" font-size=\"14.00\">False</text>\n",
       "</g>\n",
       "<!-- 2 -->\n",
       "<g id=\"node3\" class=\"node\"><title>2</title>\n",
       "<path fill=\"#e58139\" fill-opacity=\"0.819608\" stroke=\"black\" d=\"M232,-413.5C232,-413.5 12,-413.5 12,-413.5 6,-413.5 -1.42109e-14,-407.5 -1.42109e-14,-401.5 -1.42109e-14,-401.5 -1.42109e-14,-346.5 -1.42109e-14,-346.5 -1.42109e-14,-340.5 6,-334.5 12,-334.5 12,-334.5 232,-334.5 232,-334.5 238,-334.5 244,-340.5 244,-346.5 244,-346.5 244,-401.5 244,-401.5 244,-407.5 238,-413.5 232,-413.5\"/>\n",
       "<text text-anchor=\"start\" x=\"8.5\" y=\"-399.3\" font-family=\"Helvetica,sans-Serif\" font-size=\"14.00\">Median Household Income ≤ 20899.0</text>\n",
       "<text text-anchor=\"start\" x=\"90\" y=\"-385.3\" font-family=\"Helvetica,sans-Serif\" font-size=\"14.00\">gini = 0.26</text>\n",
       "<text text-anchor=\"start\" x=\"81\" y=\"-371.3\" font-family=\"Helvetica,sans-Serif\" font-size=\"14.00\">samples = 13</text>\n",
       "<text text-anchor=\"start\" x=\"79\" y=\"-357.3\" font-family=\"Helvetica,sans-Serif\" font-size=\"14.00\">value = [11, 2]</text>\n",
       "<text text-anchor=\"start\" x=\"78\" y=\"-343.3\" font-family=\"Helvetica,sans-Serif\" font-size=\"14.00\">class = Others</text>\n",
       "</g>\n",
       "<!-- 1&#45;&gt;2 -->\n",
       "<g id=\"edge2\" class=\"edge\"><title>1&#45;&gt;2</title>\n",
       "<path fill=\"none\" stroke=\"black\" d=\"M184.837,-450.405C177.099,-441.119 168.753,-431.104 160.75,-421.5\"/>\n",
       "<polygon fill=\"black\" stroke=\"black\" points=\"163.22,-418.997 154.13,-413.555 157.843,-423.478 163.22,-418.997\"/>\n",
       "</g>\n",
       "<!-- 9 -->\n",
       "<g id=\"node10\" class=\"node\"><title>9</title>\n",
       "<path fill=\"#399de5\" stroke=\"black\" d=\"M350,-406.5C350,-406.5 274,-406.5 274,-406.5 268,-406.5 262,-400.5 262,-394.5 262,-394.5 262,-353.5 262,-353.5 262,-347.5 268,-341.5 274,-341.5 274,-341.5 350,-341.5 350,-341.5 356,-341.5 362,-347.5 362,-353.5 362,-353.5 362,-394.5 362,-394.5 362,-400.5 356,-406.5 350,-406.5\"/>\n",
       "<text text-anchor=\"start\" x=\"284\" y=\"-392.3\" font-family=\"Helvetica,sans-Serif\" font-size=\"14.00\">gini = 0.0</text>\n",
       "<text text-anchor=\"start\" x=\"274.5\" y=\"-378.3\" font-family=\"Helvetica,sans-Serif\" font-size=\"14.00\">samples = 2</text>\n",
       "<text text-anchor=\"start\" x=\"272.5\" y=\"-364.3\" font-family=\"Helvetica,sans-Serif\" font-size=\"14.00\">value = [0, 2]</text>\n",
       "<text text-anchor=\"start\" x=\"270.5\" y=\"-350.3\" font-family=\"Helvetica,sans-Serif\" font-size=\"14.00\">class = IWVR</text>\n",
       "</g>\n",
       "<!-- 1&#45;&gt;9 -->\n",
       "<g id=\"edge9\" class=\"edge\"><title>1&#45;&gt;9</title>\n",
       "<path fill=\"none\" stroke=\"black\" d=\"M249.163,-450.405C258.785,-438.859 269.347,-426.184 279.02,-414.575\"/>\n",
       "<polygon fill=\"black\" stroke=\"black\" points=\"281.84,-416.659 285.553,-406.736 276.462,-412.178 281.84,-416.659\"/>\n",
       "</g>\n",
       "<!-- 3 -->\n",
       "<g id=\"node4\" class=\"node\"><title>3</title>\n",
       "<path fill=\"#399de5\" stroke=\"black\" d=\"M90,-290.5C90,-290.5 14,-290.5 14,-290.5 8,-290.5 2,-284.5 2,-278.5 2,-278.5 2,-237.5 2,-237.5 2,-231.5 8,-225.5 14,-225.5 14,-225.5 90,-225.5 90,-225.5 96,-225.5 102,-231.5 102,-237.5 102,-237.5 102,-278.5 102,-278.5 102,-284.5 96,-290.5 90,-290.5\"/>\n",
       "<text text-anchor=\"start\" x=\"24\" y=\"-276.3\" font-family=\"Helvetica,sans-Serif\" font-size=\"14.00\">gini = 0.0</text>\n",
       "<text text-anchor=\"start\" x=\"14.5\" y=\"-262.3\" font-family=\"Helvetica,sans-Serif\" font-size=\"14.00\">samples = 1</text>\n",
       "<text text-anchor=\"start\" x=\"12.5\" y=\"-248.3\" font-family=\"Helvetica,sans-Serif\" font-size=\"14.00\">value = [0, 1]</text>\n",
       "<text text-anchor=\"start\" x=\"10.5\" y=\"-234.3\" font-family=\"Helvetica,sans-Serif\" font-size=\"14.00\">class = IWVR</text>\n",
       "</g>\n",
       "<!-- 2&#45;&gt;3 -->\n",
       "<g id=\"edge3\" class=\"edge\"><title>2&#45;&gt;3</title>\n",
       "<path fill=\"none\" stroke=\"black\" d=\"M98.3012,-334.405C91.4159,-323.192 83.877,-310.914 76.9192,-299.583\"/>\n",
       "<polygon fill=\"black\" stroke=\"black\" points=\"79.7026,-297.427 71.4873,-290.736 73.7373,-301.09 79.7026,-297.427\"/>\n",
       "</g>\n",
       "<!-- 4 -->\n",
       "<g id=\"node5\" class=\"node\"><title>4</title>\n",
       "<path fill=\"#e58139\" fill-opacity=\"0.909804\" stroke=\"black\" d=\"M254,-297.5C254,-297.5 132,-297.5 132,-297.5 126,-297.5 120,-291.5 120,-285.5 120,-285.5 120,-230.5 120,-230.5 120,-224.5 126,-218.5 132,-218.5 132,-218.5 254,-218.5 254,-218.5 260,-218.5 266,-224.5 266,-230.5 266,-230.5 266,-285.5 266,-285.5 266,-291.5 260,-297.5 254,-297.5\"/>\n",
       "<text text-anchor=\"start\" x=\"128.5\" y=\"-283.3\" font-family=\"Helvetica,sans-Serif\" font-size=\"14.00\">Population ≤ 14556.5</text>\n",
       "<text text-anchor=\"start\" x=\"157.5\" y=\"-269.3\" font-family=\"Helvetica,sans-Serif\" font-size=\"14.00\">gini = 0.153</text>\n",
       "<text text-anchor=\"start\" x=\"152\" y=\"-255.3\" font-family=\"Helvetica,sans-Serif\" font-size=\"14.00\">samples = 12</text>\n",
       "<text text-anchor=\"start\" x=\"150\" y=\"-241.3\" font-family=\"Helvetica,sans-Serif\" font-size=\"14.00\">value = [11, 1]</text>\n",
       "<text text-anchor=\"start\" x=\"149\" y=\"-227.3\" font-family=\"Helvetica,sans-Serif\" font-size=\"14.00\">class = Others</text>\n",
       "</g>\n",
       "<!-- 2&#45;&gt;4 -->\n",
       "<g id=\"edge4\" class=\"edge\"><title>2&#45;&gt;4</title>\n",
       "<path fill=\"none\" stroke=\"black\" d=\"M146.037,-334.405C151.705,-325.305 157.809,-315.504 163.68,-306.077\"/>\n",
       "<polygon fill=\"black\" stroke=\"black\" points=\"166.672,-307.894 168.987,-297.555 160.73,-304.193 166.672,-307.894\"/>\n",
       "</g>\n",
       "<!-- 5 -->\n",
       "<g id=\"node6\" class=\"node\"><title>5</title>\n",
       "<path fill=\"#e58139\" stroke=\"black\" d=\"M161.25,-174.5C161.25,-174.5 80.75,-174.5 80.75,-174.5 74.75,-174.5 68.75,-168.5 68.75,-162.5 68.75,-162.5 68.75,-121.5 68.75,-121.5 68.75,-115.5 74.75,-109.5 80.75,-109.5 80.75,-109.5 161.25,-109.5 161.25,-109.5 167.25,-109.5 173.25,-115.5 173.25,-121.5 173.25,-121.5 173.25,-162.5 173.25,-162.5 173.25,-168.5 167.25,-174.5 161.25,-174.5\"/>\n",
       "<text text-anchor=\"start\" x=\"93\" y=\"-160.3\" font-family=\"Helvetica,sans-Serif\" font-size=\"14.00\">gini = 0.0</text>\n",
       "<text text-anchor=\"start\" x=\"83.5\" y=\"-146.3\" font-family=\"Helvetica,sans-Serif\" font-size=\"14.00\">samples = 9</text>\n",
       "<text text-anchor=\"start\" x=\"81.5\" y=\"-132.3\" font-family=\"Helvetica,sans-Serif\" font-size=\"14.00\">value = [9, 0]</text>\n",
       "<text text-anchor=\"start\" x=\"77\" y=\"-118.3\" font-family=\"Helvetica,sans-Serif\" font-size=\"14.00\">class = Others</text>\n",
       "</g>\n",
       "<!-- 4&#45;&gt;5 -->\n",
       "<g id=\"edge5\" class=\"edge\"><title>4&#45;&gt;5</title>\n",
       "<path fill=\"none\" stroke=\"black\" d=\"M168.624,-218.405C161.472,-207.081 153.634,-194.671 146.419,-183.246\"/>\n",
       "<polygon fill=\"black\" stroke=\"black\" points=\"149.343,-181.322 141.044,-174.736 143.425,-185.06 149.343,-181.322\"/>\n",
       "</g>\n",
       "<!-- 6 -->\n",
       "<g id=\"node7\" class=\"node\"><title>6</title>\n",
       "<path fill=\"#e58139\" fill-opacity=\"0.498039\" stroke=\"black\" d=\"M326,-181.5C326,-181.5 204,-181.5 204,-181.5 198,-181.5 192,-175.5 192,-169.5 192,-169.5 192,-114.5 192,-114.5 192,-108.5 198,-102.5 204,-102.5 204,-102.5 326,-102.5 326,-102.5 332,-102.5 338,-108.5 338,-114.5 338,-114.5 338,-169.5 338,-169.5 338,-175.5 332,-181.5 326,-181.5\"/>\n",
       "<text text-anchor=\"start\" x=\"200.5\" y=\"-167.3\" font-family=\"Helvetica,sans-Serif\" font-size=\"14.00\">Population ≤ 15150.0</text>\n",
       "<text text-anchor=\"start\" x=\"229.5\" y=\"-153.3\" font-family=\"Helvetica,sans-Serif\" font-size=\"14.00\">gini = 0.444</text>\n",
       "<text text-anchor=\"start\" x=\"227.5\" y=\"-139.3\" font-family=\"Helvetica,sans-Serif\" font-size=\"14.00\">samples = 3</text>\n",
       "<text text-anchor=\"start\" x=\"225.5\" y=\"-125.3\" font-family=\"Helvetica,sans-Serif\" font-size=\"14.00\">value = [2, 1]</text>\n",
       "<text text-anchor=\"start\" x=\"221\" y=\"-111.3\" font-family=\"Helvetica,sans-Serif\" font-size=\"14.00\">class = Others</text>\n",
       "</g>\n",
       "<!-- 4&#45;&gt;6 -->\n",
       "<g id=\"edge6\" class=\"edge\"><title>4&#45;&gt;6</title>\n",
       "<path fill=\"none\" stroke=\"black\" d=\"M217.376,-218.405C223.123,-209.305 229.313,-199.504 235.267,-190.077\"/>\n",
       "<polygon fill=\"black\" stroke=\"black\" points=\"238.268,-191.879 240.649,-181.555 232.35,-188.141 238.268,-191.879\"/>\n",
       "</g>\n",
       "<!-- 7 -->\n",
       "<g id=\"node8\" class=\"node\"><title>7</title>\n",
       "<path fill=\"#399de5\" stroke=\"black\" d=\"M242,-65.5C242,-65.5 166,-65.5 166,-65.5 160,-65.5 154,-59.5 154,-53.5 154,-53.5 154,-12.5 154,-12.5 154,-6.5 160,-0.5 166,-0.5 166,-0.5 242,-0.5 242,-0.5 248,-0.5 254,-6.5 254,-12.5 254,-12.5 254,-53.5 254,-53.5 254,-59.5 248,-65.5 242,-65.5\"/>\n",
       "<text text-anchor=\"start\" x=\"176\" y=\"-51.3\" font-family=\"Helvetica,sans-Serif\" font-size=\"14.00\">gini = 0.0</text>\n",
       "<text text-anchor=\"start\" x=\"166.5\" y=\"-37.3\" font-family=\"Helvetica,sans-Serif\" font-size=\"14.00\">samples = 1</text>\n",
       "<text text-anchor=\"start\" x=\"164.5\" y=\"-23.3\" font-family=\"Helvetica,sans-Serif\" font-size=\"14.00\">value = [0, 1]</text>\n",
       "<text text-anchor=\"start\" x=\"162.5\" y=\"-9.3\" font-family=\"Helvetica,sans-Serif\" font-size=\"14.00\">class = IWVR</text>\n",
       "</g>\n",
       "<!-- 6&#45;&gt;7 -->\n",
       "<g id=\"edge7\" class=\"edge\"><title>6&#45;&gt;7</title>\n",
       "<path fill=\"none\" stroke=\"black\" d=\"M242.978,-102.371C237.807,-93.3016 232.284,-83.6134 227.07,-74.4664\"/>\n",
       "<polygon fill=\"black\" stroke=\"black\" points=\"229.976,-72.4968 221.982,-65.5428 223.894,-75.9637 229.976,-72.4968\"/>\n",
       "</g>\n",
       "<!-- 8 -->\n",
       "<g id=\"node9\" class=\"node\"><title>8</title>\n",
       "<path fill=\"#e58139\" stroke=\"black\" d=\"M365.25,-65.5C365.25,-65.5 284.75,-65.5 284.75,-65.5 278.75,-65.5 272.75,-59.5 272.75,-53.5 272.75,-53.5 272.75,-12.5 272.75,-12.5 272.75,-6.5 278.75,-0.5 284.75,-0.5 284.75,-0.5 365.25,-0.5 365.25,-0.5 371.25,-0.5 377.25,-6.5 377.25,-12.5 377.25,-12.5 377.25,-53.5 377.25,-53.5 377.25,-59.5 371.25,-65.5 365.25,-65.5\"/>\n",
       "<text text-anchor=\"start\" x=\"297\" y=\"-51.3\" font-family=\"Helvetica,sans-Serif\" font-size=\"14.00\">gini = 0.0</text>\n",
       "<text text-anchor=\"start\" x=\"287.5\" y=\"-37.3\" font-family=\"Helvetica,sans-Serif\" font-size=\"14.00\">samples = 2</text>\n",
       "<text text-anchor=\"start\" x=\"285.5\" y=\"-23.3\" font-family=\"Helvetica,sans-Serif\" font-size=\"14.00\">value = [2, 0]</text>\n",
       "<text text-anchor=\"start\" x=\"281\" y=\"-9.3\" font-family=\"Helvetica,sans-Serif\" font-size=\"14.00\">class = Others</text>\n",
       "</g>\n",
       "<!-- 6&#45;&gt;8 -->\n",
       "<g id=\"edge8\" class=\"edge\"><title>6&#45;&gt;8</title>\n",
       "<path fill=\"none\" stroke=\"black\" d=\"M286.661,-102.371C291.747,-93.3016 297.179,-83.6134 302.309,-74.4664\"/>\n",
       "<polygon fill=\"black\" stroke=\"black\" points=\"305.474,-75.977 307.312,-65.5428 299.369,-72.5533 305.474,-75.977\"/>\n",
       "</g>\n",
       "</g>\n",
       "</svg>\n"
      ],
      "text/plain": [
       "<graphviz.files.Source at 0x7f42ed795080>"
      ]
     },
     "execution_count": 56,
     "metadata": {},
     "output_type": "execute_result"
    }
   ],
   "source": [
    "decision_tree_graph(geo_numeric, 'IWVR')"
   ]
  },
  {
   "cell_type": "markdown",
   "metadata": {},
   "source": [
    "\n"
   ]
  },
  {
   "cell_type": "code",
   "execution_count": null,
   "metadata": {
    "collapsed": true
   },
   "outputs": [],
   "source": []
  },
  {
   "cell_type": "code",
   "execution_count": null,
   "metadata": {
    "collapsed": true
   },
   "outputs": [],
   "source": []
  },
  {
   "cell_type": "code",
   "execution_count": null,
   "metadata": {
    "collapsed": true
   },
   "outputs": [],
   "source": []
  },
  {
   "cell_type": "code",
   "execution_count": null,
   "metadata": {
    "collapsed": true
   },
   "outputs": [],
   "source": []
  },
  {
   "cell_type": "code",
   "execution_count": null,
   "metadata": {
    "collapsed": true
   },
   "outputs": [],
   "source": []
  },
  {
   "cell_type": "code",
   "execution_count": null,
   "metadata": {
    "collapsed": true
   },
   "outputs": [],
   "source": []
  },
  {
   "cell_type": "markdown",
   "metadata": {},
   "source": [
    "## Auto Theft\n",
    "E, M, B"
   ]
  },
  {
   "cell_type": "code",
   "execution_count": 57,
   "metadata": {
    "ExecuteTime": {
     "end_time": "2018-09-11T21:47:22.007357",
     "start_time": "2018-09-11T21:47:21.962421"
    },
    "collapsed": false
   },
   "outputs": [
    {
     "data": {
      "image/svg+xml": [
       "<?xml version=\"1.0\" encoding=\"UTF-8\" standalone=\"no\"?>\n",
       "<!DOCTYPE svg PUBLIC \"-//W3C//DTD SVG 1.1//EN\"\n",
       " \"http://www.w3.org/Graphics/SVG/1.1/DTD/svg11.dtd\">\n",
       "<!-- Generated by graphviz version 2.30.1 (20150306.0020)\n",
       " -->\n",
       "<!-- Title: Tree Pages: 1 -->\n",
       "<svg width=\"320pt\" height=\"306pt\"\n",
       " viewBox=\"0.00 0.00 320.00 306.00\" xmlns=\"http://www.w3.org/2000/svg\" xmlns:xlink=\"http://www.w3.org/1999/xlink\">\n",
       "<g id=\"graph0\" class=\"graph\" transform=\"scale(1 1) rotate(0) translate(4 302)\">\n",
       "<title>Tree</title>\n",
       "<polygon fill=\"white\" stroke=\"white\" points=\"-4,5 -4,-302 317,-302 317,5 -4,5\"/>\n",
       "<!-- 0 -->\n",
       "<g id=\"node1\" class=\"node\"><title>0</title>\n",
       "<path fill=\"#e58139\" fill-opacity=\"0.862745\" stroke=\"black\" d=\"M249,-297.5C249,-297.5 117,-297.5 117,-297.5 111,-297.5 105,-291.5 105,-285.5 105,-285.5 105,-230.5 105,-230.5 105,-224.5 111,-218.5 117,-218.5 117,-218.5 249,-218.5 249,-218.5 255,-218.5 261,-224.5 261,-230.5 261,-230.5 261,-285.5 261,-285.5 261,-291.5 255,-297.5 249,-297.5\"/>\n",
       "<text text-anchor=\"start\" x=\"113.5\" y=\"-283.3\" font-family=\"Helvetica,sans-Serif\" font-size=\"14.00\">Nutrition Ranking ≤ 4.5</text>\n",
       "<text text-anchor=\"start\" x=\"147.5\" y=\"-269.3\" font-family=\"Helvetica,sans-Serif\" font-size=\"14.00\">gini = 0.211</text>\n",
       "<text text-anchor=\"start\" x=\"142\" y=\"-255.3\" font-family=\"Helvetica,sans-Serif\" font-size=\"14.00\">samples = 25</text>\n",
       "<text text-anchor=\"start\" x=\"140\" y=\"-241.3\" font-family=\"Helvetica,sans-Serif\" font-size=\"14.00\">value = [22, 3]</text>\n",
       "<text text-anchor=\"start\" x=\"139\" y=\"-227.3\" font-family=\"Helvetica,sans-Serif\" font-size=\"14.00\">class = Others</text>\n",
       "</g>\n",
       "<!-- 1 -->\n",
       "<g id=\"node2\" class=\"node\"><title>1</title>\n",
       "<path fill=\"#399de5\" fill-opacity=\"0.666667\" stroke=\"black\" d=\"M177.25,-181.5C177.25,-181.5 36.75,-181.5 36.75,-181.5 30.75,-181.5 24.75,-175.5 24.75,-169.5 24.75,-169.5 24.75,-114.5 24.75,-114.5 24.75,-108.5 30.75,-102.5 36.75,-102.5 36.75,-102.5 177.25,-102.5 177.25,-102.5 183.25,-102.5 189.25,-108.5 189.25,-114.5 189.25,-114.5 189.25,-169.5 189.25,-169.5 189.25,-175.5 183.25,-181.5 177.25,-181.5\"/>\n",
       "<text text-anchor=\"start\" x=\"33\" y=\"-167.3\" font-family=\"Helvetica,sans-Serif\" font-size=\"14.00\">Uterine Cancer LQ ≤ 2.8</text>\n",
       "<text text-anchor=\"start\" x=\"71.5\" y=\"-153.3\" font-family=\"Helvetica,sans-Serif\" font-size=\"14.00\">gini = 0.375</text>\n",
       "<text text-anchor=\"start\" x=\"69.5\" y=\"-139.3\" font-family=\"Helvetica,sans-Serif\" font-size=\"14.00\">samples = 4</text>\n",
       "<text text-anchor=\"start\" x=\"67.5\" y=\"-125.3\" font-family=\"Helvetica,sans-Serif\" font-size=\"14.00\">value = [1, 3]</text>\n",
       "<text text-anchor=\"start\" x=\"68.5\" y=\"-111.3\" font-family=\"Helvetica,sans-Serif\" font-size=\"14.00\">class = EMB</text>\n",
       "</g>\n",
       "<!-- 0&#45;&gt;1 -->\n",
       "<g id=\"edge1\" class=\"edge\"><title>0&#45;&gt;1</title>\n",
       "<path fill=\"none\" stroke=\"black\" d=\"M157.27,-218.405C151.203,-209.305 144.67,-199.504 138.385,-190.077\"/>\n",
       "<polygon fill=\"black\" stroke=\"black\" points=\"141.163,-187.935 132.704,-181.555 135.338,-191.817 141.163,-187.935\"/>\n",
       "<text text-anchor=\"middle\" x=\"127.801\" y=\"-202.37\" font-family=\"Helvetica,sans-Serif\" font-size=\"14.00\">True</text>\n",
       "</g>\n",
       "<!-- 4 -->\n",
       "<g id=\"node5\" class=\"node\"><title>4</title>\n",
       "<path fill=\"#e58139\" stroke=\"black\" d=\"M300.25,-174.5C300.25,-174.5 219.75,-174.5 219.75,-174.5 213.75,-174.5 207.75,-168.5 207.75,-162.5 207.75,-162.5 207.75,-121.5 207.75,-121.5 207.75,-115.5 213.75,-109.5 219.75,-109.5 219.75,-109.5 300.25,-109.5 300.25,-109.5 306.25,-109.5 312.25,-115.5 312.25,-121.5 312.25,-121.5 312.25,-162.5 312.25,-162.5 312.25,-168.5 306.25,-174.5 300.25,-174.5\"/>\n",
       "<text text-anchor=\"start\" x=\"232\" y=\"-160.3\" font-family=\"Helvetica,sans-Serif\" font-size=\"14.00\">gini = 0.0</text>\n",
       "<text text-anchor=\"start\" x=\"219\" y=\"-146.3\" font-family=\"Helvetica,sans-Serif\" font-size=\"14.00\">samples = 21</text>\n",
       "<text text-anchor=\"start\" x=\"217\" y=\"-132.3\" font-family=\"Helvetica,sans-Serif\" font-size=\"14.00\">value = [21, 0]</text>\n",
       "<text text-anchor=\"start\" x=\"216\" y=\"-118.3\" font-family=\"Helvetica,sans-Serif\" font-size=\"14.00\">class = Others</text>\n",
       "</g>\n",
       "<!-- 0&#45;&gt;4 -->\n",
       "<g id=\"edge4\" class=\"edge\"><title>0&#45;&gt;4</title>\n",
       "<path fill=\"none\" stroke=\"black\" d=\"M209.069,-218.405C216.717,-207.081 225.1,-194.671 232.816,-183.246\"/>\n",
       "<polygon fill=\"black\" stroke=\"black\" points=\"235.867,-184.982 238.564,-174.736 230.066,-181.064 235.867,-184.982\"/>\n",
       "<text text-anchor=\"middle\" x=\"243.319\" y=\"-195.58\" font-family=\"Helvetica,sans-Serif\" font-size=\"14.00\">False</text>\n",
       "</g>\n",
       "<!-- 2 -->\n",
       "<g id=\"node3\" class=\"node\"><title>2</title>\n",
       "<path fill=\"#399de5\" stroke=\"black\" d=\"M84,-65.5C84,-65.5 12,-65.5 12,-65.5 6,-65.5 0,-59.5 0,-53.5 0,-53.5 0,-12.5 0,-12.5 0,-6.5 6,-0.5 12,-0.5 12,-0.5 84,-0.5 84,-0.5 90,-0.5 96,-6.5 96,-12.5 96,-12.5 96,-53.5 96,-53.5 96,-59.5 90,-65.5 84,-65.5\"/>\n",
       "<text text-anchor=\"start\" x=\"20\" y=\"-51.3\" font-family=\"Helvetica,sans-Serif\" font-size=\"14.00\">gini = 0.0</text>\n",
       "<text text-anchor=\"start\" x=\"10.5\" y=\"-37.3\" font-family=\"Helvetica,sans-Serif\" font-size=\"14.00\">samples = 3</text>\n",
       "<text text-anchor=\"start\" x=\"8.5\" y=\"-23.3\" font-family=\"Helvetica,sans-Serif\" font-size=\"14.00\">value = [0, 3]</text>\n",
       "<text text-anchor=\"start\" x=\"9.5\" y=\"-9.3\" font-family=\"Helvetica,sans-Serif\" font-size=\"14.00\">class = EMB</text>\n",
       "</g>\n",
       "<!-- 1&#45;&gt;2 -->\n",
       "<g id=\"edge2\" class=\"edge\"><title>1&#45;&gt;2</title>\n",
       "<path fill=\"none\" stroke=\"black\" d=\"M85.6996,-102.371C80.699,-93.3016 75.3569,-83.6134 70.3133,-74.4664\"/>\n",
       "<polygon fill=\"black\" stroke=\"black\" points=\"73.2864,-72.6098 65.3928,-65.5428 67.1565,-75.9899 73.2864,-72.6098\"/>\n",
       "</g>\n",
       "<!-- 3 -->\n",
       "<g id=\"node4\" class=\"node\"><title>3</title>\n",
       "<path fill=\"#e58139\" stroke=\"black\" d=\"M207.25,-65.5C207.25,-65.5 126.75,-65.5 126.75,-65.5 120.75,-65.5 114.75,-59.5 114.75,-53.5 114.75,-53.5 114.75,-12.5 114.75,-12.5 114.75,-6.5 120.75,-0.5 126.75,-0.5 126.75,-0.5 207.25,-0.5 207.25,-0.5 213.25,-0.5 219.25,-6.5 219.25,-12.5 219.25,-12.5 219.25,-53.5 219.25,-53.5 219.25,-59.5 213.25,-65.5 207.25,-65.5\"/>\n",
       "<text text-anchor=\"start\" x=\"139\" y=\"-51.3\" font-family=\"Helvetica,sans-Serif\" font-size=\"14.00\">gini = 0.0</text>\n",
       "<text text-anchor=\"start\" x=\"129.5\" y=\"-37.3\" font-family=\"Helvetica,sans-Serif\" font-size=\"14.00\">samples = 1</text>\n",
       "<text text-anchor=\"start\" x=\"127.5\" y=\"-23.3\" font-family=\"Helvetica,sans-Serif\" font-size=\"14.00\">value = [1, 0]</text>\n",
       "<text text-anchor=\"start\" x=\"123\" y=\"-9.3\" font-family=\"Helvetica,sans-Serif\" font-size=\"14.00\">class = Others</text>\n",
       "</g>\n",
       "<!-- 1&#45;&gt;3 -->\n",
       "<g id=\"edge3\" class=\"edge\"><title>1&#45;&gt;3</title>\n",
       "<path fill=\"none\" stroke=\"black\" d=\"M128.661,-102.371C133.747,-93.3016 139.179,-83.6134 144.309,-74.4664\"/>\n",
       "<polygon fill=\"black\" stroke=\"black\" points=\"147.474,-75.977 149.312,-65.5428 141.369,-72.5533 147.474,-75.977\"/>\n",
       "</g>\n",
       "</g>\n",
       "</svg>\n"
      ],
      "text/plain": [
       "<graphviz.files.Source at 0x7f42e6955978>"
      ]
     },
     "execution_count": 57,
     "metadata": {},
     "output_type": "execute_result"
    }
   ],
   "source": [
    "decision_tree_graph(health, 'EMB')"
   ]
  },
  {
   "cell_type": "code",
   "execution_count": 58,
   "metadata": {
    "ExecuteTime": {
     "end_time": "2018-09-11T21:47:37.302751",
     "start_time": "2018-09-11T21:47:37.266448"
    },
    "collapsed": false
   },
   "outputs": [
    {
     "data": {
      "image/svg+xml": [
       "<?xml version=\"1.0\" encoding=\"UTF-8\" standalone=\"no\"?>\n",
       "<!DOCTYPE svg PUBLIC \"-//W3C//DTD SVG 1.1//EN\"\n",
       " \"http://www.w3.org/Graphics/SVG/1.1/DTD/svg11.dtd\">\n",
       "<!-- Generated by graphviz version 2.30.1 (20150306.0020)\n",
       " -->\n",
       "<!-- Title: Tree Pages: 1 -->\n",
       "<svg width=\"227pt\" height=\"190pt\"\n",
       " viewBox=\"0.00 0.00 227.00 190.00\" xmlns=\"http://www.w3.org/2000/svg\" xmlns:xlink=\"http://www.w3.org/1999/xlink\">\n",
       "<g id=\"graph0\" class=\"graph\" transform=\"scale(1 1) rotate(0) translate(4 186)\">\n",
       "<title>Tree</title>\n",
       "<polygon fill=\"white\" stroke=\"white\" points=\"-4,5 -4,-186 224,-186 224,5 -4,5\"/>\n",
       "<!-- 0 -->\n",
       "<g id=\"node1\" class=\"node\"><title>0</title>\n",
       "<path fill=\"#e58139\" fill-opacity=\"0.858824\" stroke=\"black\" d=\"M176,-181.5C176,-181.5 38,-181.5 38,-181.5 32,-181.5 26,-175.5 26,-169.5 26,-169.5 26,-114.5 26,-114.5 26,-108.5 32,-102.5 38,-102.5 38,-102.5 176,-102.5 176,-102.5 182,-102.5 188,-108.5 188,-114.5 188,-114.5 188,-169.5 188,-169.5 188,-175.5 182,-181.5 176,-181.5\"/>\n",
       "<text text-anchor=\"start\" x=\"34.5\" y=\"-167.3\" font-family=\"Helvetica,sans-Serif\" font-size=\"14.00\">Economy Ranking ≤ 3.5</text>\n",
       "<text text-anchor=\"start\" x=\"71.5\" y=\"-153.3\" font-family=\"Helvetica,sans-Serif\" font-size=\"14.00\">gini = 0.219</text>\n",
       "<text text-anchor=\"start\" x=\"66\" y=\"-139.3\" font-family=\"Helvetica,sans-Serif\" font-size=\"14.00\">samples = 24</text>\n",
       "<text text-anchor=\"start\" x=\"64\" y=\"-125.3\" font-family=\"Helvetica,sans-Serif\" font-size=\"14.00\">value = [21, 3]</text>\n",
       "<text text-anchor=\"start\" x=\"63\" y=\"-111.3\" font-family=\"Helvetica,sans-Serif\" font-size=\"14.00\">class = Others</text>\n",
       "</g>\n",
       "<!-- 1 -->\n",
       "<g id=\"node2\" class=\"node\"><title>1</title>\n",
       "<path fill=\"#399de5\" stroke=\"black\" d=\"M84,-65.5C84,-65.5 12,-65.5 12,-65.5 6,-65.5 0,-59.5 0,-53.5 0,-53.5 0,-12.5 0,-12.5 0,-6.5 6,-0.5 12,-0.5 12,-0.5 84,-0.5 84,-0.5 90,-0.5 96,-6.5 96,-12.5 96,-12.5 96,-53.5 96,-53.5 96,-59.5 90,-65.5 84,-65.5\"/>\n",
       "<text text-anchor=\"start\" x=\"20\" y=\"-51.3\" font-family=\"Helvetica,sans-Serif\" font-size=\"14.00\">gini = 0.0</text>\n",
       "<text text-anchor=\"start\" x=\"10.5\" y=\"-37.3\" font-family=\"Helvetica,sans-Serif\" font-size=\"14.00\">samples = 3</text>\n",
       "<text text-anchor=\"start\" x=\"8.5\" y=\"-23.3\" font-family=\"Helvetica,sans-Serif\" font-size=\"14.00\">value = [0, 3]</text>\n",
       "<text text-anchor=\"start\" x=\"9.5\" y=\"-9.3\" font-family=\"Helvetica,sans-Serif\" font-size=\"14.00\">class = EMB</text>\n",
       "</g>\n",
       "<!-- 0&#45;&gt;1 -->\n",
       "<g id=\"edge1\" class=\"edge\"><title>0&#45;&gt;1</title>\n",
       "<path fill=\"none\" stroke=\"black\" d=\"M85.6996,-102.371C80.699,-93.3016 75.3569,-83.6134 70.3133,-74.4664\"/>\n",
       "<polygon fill=\"black\" stroke=\"black\" points=\"73.2864,-72.6098 65.3928,-65.5428 67.1565,-75.9899 73.2864,-72.6098\"/>\n",
       "<text text-anchor=\"middle\" x=\"58.4484\" y=\"-85.859\" font-family=\"Helvetica,sans-Serif\" font-size=\"14.00\">True</text>\n",
       "</g>\n",
       "<!-- 2 -->\n",
       "<g id=\"node3\" class=\"node\"><title>2</title>\n",
       "<path fill=\"#e58139\" stroke=\"black\" d=\"M207.25,-65.5C207.25,-65.5 126.75,-65.5 126.75,-65.5 120.75,-65.5 114.75,-59.5 114.75,-53.5 114.75,-53.5 114.75,-12.5 114.75,-12.5 114.75,-6.5 120.75,-0.5 126.75,-0.5 126.75,-0.5 207.25,-0.5 207.25,-0.5 213.25,-0.5 219.25,-6.5 219.25,-12.5 219.25,-12.5 219.25,-53.5 219.25,-53.5 219.25,-59.5 213.25,-65.5 207.25,-65.5\"/>\n",
       "<text text-anchor=\"start\" x=\"139\" y=\"-51.3\" font-family=\"Helvetica,sans-Serif\" font-size=\"14.00\">gini = 0.0</text>\n",
       "<text text-anchor=\"start\" x=\"126\" y=\"-37.3\" font-family=\"Helvetica,sans-Serif\" font-size=\"14.00\">samples = 21</text>\n",
       "<text text-anchor=\"start\" x=\"124\" y=\"-23.3\" font-family=\"Helvetica,sans-Serif\" font-size=\"14.00\">value = [21, 0]</text>\n",
       "<text text-anchor=\"start\" x=\"123\" y=\"-9.3\" font-family=\"Helvetica,sans-Serif\" font-size=\"14.00\">class = Others</text>\n",
       "</g>\n",
       "<!-- 0&#45;&gt;2 -->\n",
       "<g id=\"edge2\" class=\"edge\"><title>0&#45;&gt;2</title>\n",
       "<path fill=\"none\" stroke=\"black\" d=\"M128.661,-102.371C133.747,-93.3016 139.179,-83.6134 144.309,-74.4664\"/>\n",
       "<polygon fill=\"black\" stroke=\"black\" points=\"147.474,-75.977 149.312,-65.5428 141.369,-72.5533 147.474,-75.977\"/>\n",
       "<text text-anchor=\"middle\" x=\"156.085\" y=\"-85.9079\" font-family=\"Helvetica,sans-Serif\" font-size=\"14.00\">False</text>\n",
       "</g>\n",
       "</g>\n",
       "</svg>\n"
      ],
      "text/plain": [
       "<graphviz.files.Source at 0x7f42e69aacf8>"
      ]
     },
     "execution_count": 58,
     "metadata": {},
     "output_type": "execute_result"
    }
   ],
   "source": [
    "decision_tree_graph(life, 'EMB')"
   ]
  },
  {
   "cell_type": "code",
   "execution_count": 59,
   "metadata": {
    "ExecuteTime": {
     "end_time": "2018-09-11T21:48:12.304465",
     "start_time": "2018-09-11T21:48:12.270928"
    },
    "collapsed": false
   },
   "outputs": [
    {
     "data": {
      "image/svg+xml": [
       "<?xml version=\"1.0\" encoding=\"UTF-8\" standalone=\"no\"?>\n",
       "<!DOCTYPE svg PUBLIC \"-//W3C//DTD SVG 1.1//EN\"\n",
       " \"http://www.w3.org/Graphics/SVG/1.1/DTD/svg11.dtd\">\n",
       "<!-- Generated by graphviz version 2.30.1 (20150306.0020)\n",
       " -->\n",
       "<!-- Title: Tree Pages: 1 -->\n",
       "<svg width=\"227pt\" height=\"190pt\"\n",
       " viewBox=\"0.00 0.00 227.00 190.00\" xmlns=\"http://www.w3.org/2000/svg\" xmlns:xlink=\"http://www.w3.org/1999/xlink\">\n",
       "<g id=\"graph0\" class=\"graph\" transform=\"scale(1 1) rotate(0) translate(4 186)\">\n",
       "<title>Tree</title>\n",
       "<polygon fill=\"white\" stroke=\"white\" points=\"-4,5 -4,-186 224,-186 224,5 -4,5\"/>\n",
       "<!-- 0 -->\n",
       "<g id=\"node1\" class=\"node\"><title>0</title>\n",
       "<path fill=\"#e58139\" fill-opacity=\"0.858824\" stroke=\"black\" d=\"M172,-181.5C172,-181.5 50,-181.5 50,-181.5 44,-181.5 38,-175.5 38,-169.5 38,-169.5 38,-114.5 38,-114.5 38,-108.5 44,-102.5 50,-102.5 50,-102.5 172,-102.5 172,-102.5 178,-102.5 184,-108.5 184,-114.5 184,-114.5 184,-169.5 184,-169.5 184,-175.5 178,-181.5 172,-181.5\"/>\n",
       "<text text-anchor=\"start\" x=\"46.5\" y=\"-167.3\" font-family=\"Helvetica,sans-Serif\" font-size=\"14.00\">Population ≤ 24358.0</text>\n",
       "<text text-anchor=\"start\" x=\"75.5\" y=\"-153.3\" font-family=\"Helvetica,sans-Serif\" font-size=\"14.00\">gini = 0.219</text>\n",
       "<text text-anchor=\"start\" x=\"70\" y=\"-139.3\" font-family=\"Helvetica,sans-Serif\" font-size=\"14.00\">samples = 24</text>\n",
       "<text text-anchor=\"start\" x=\"68\" y=\"-125.3\" font-family=\"Helvetica,sans-Serif\" font-size=\"14.00\">value = [21, 3]</text>\n",
       "<text text-anchor=\"start\" x=\"67\" y=\"-111.3\" font-family=\"Helvetica,sans-Serif\" font-size=\"14.00\">class = Others</text>\n",
       "</g>\n",
       "<!-- 1 -->\n",
       "<g id=\"node2\" class=\"node\"><title>1</title>\n",
       "<path fill=\"#e58139\" stroke=\"black\" d=\"M92.25,-65.5C92.25,-65.5 11.75,-65.5 11.75,-65.5 5.75,-65.5 -0.25,-59.5 -0.25,-53.5 -0.25,-53.5 -0.25,-12.5 -0.25,-12.5 -0.25,-6.5 5.75,-0.5 11.75,-0.5 11.75,-0.5 92.25,-0.5 92.25,-0.5 98.25,-0.5 104.25,-6.5 104.25,-12.5 104.25,-12.5 104.25,-53.5 104.25,-53.5 104.25,-59.5 98.25,-65.5 92.25,-65.5\"/>\n",
       "<text text-anchor=\"start\" x=\"24\" y=\"-51.3\" font-family=\"Helvetica,sans-Serif\" font-size=\"14.00\">gini = 0.0</text>\n",
       "<text text-anchor=\"start\" x=\"11\" y=\"-37.3\" font-family=\"Helvetica,sans-Serif\" font-size=\"14.00\">samples = 21</text>\n",
       "<text text-anchor=\"start\" x=\"9\" y=\"-23.3\" font-family=\"Helvetica,sans-Serif\" font-size=\"14.00\">value = [21, 0]</text>\n",
       "<text text-anchor=\"start\" x=\"8\" y=\"-9.3\" font-family=\"Helvetica,sans-Serif\" font-size=\"14.00\">class = Others</text>\n",
       "</g>\n",
       "<!-- 0&#45;&gt;1 -->\n",
       "<g id=\"edge1\" class=\"edge\"><title>0&#45;&gt;1</title>\n",
       "<path fill=\"none\" stroke=\"black\" d=\"M89.6996,-102.371C84.699,-93.3016 79.3569,-83.6134 74.3133,-74.4664\"/>\n",
       "<polygon fill=\"black\" stroke=\"black\" points=\"77.2864,-72.6098 69.3928,-65.5428 71.1565,-75.9899 77.2864,-72.6098\"/>\n",
       "<text text-anchor=\"middle\" x=\"62.4484\" y=\"-85.859\" font-family=\"Helvetica,sans-Serif\" font-size=\"14.00\">True</text>\n",
       "</g>\n",
       "<!-- 2 -->\n",
       "<g id=\"node3\" class=\"node\"><title>2</title>\n",
       "<path fill=\"#399de5\" stroke=\"black\" d=\"M207,-65.5C207,-65.5 135,-65.5 135,-65.5 129,-65.5 123,-59.5 123,-53.5 123,-53.5 123,-12.5 123,-12.5 123,-6.5 129,-0.5 135,-0.5 135,-0.5 207,-0.5 207,-0.5 213,-0.5 219,-6.5 219,-12.5 219,-12.5 219,-53.5 219,-53.5 219,-59.5 213,-65.5 207,-65.5\"/>\n",
       "<text text-anchor=\"start\" x=\"143\" y=\"-51.3\" font-family=\"Helvetica,sans-Serif\" font-size=\"14.00\">gini = 0.0</text>\n",
       "<text text-anchor=\"start\" x=\"133.5\" y=\"-37.3\" font-family=\"Helvetica,sans-Serif\" font-size=\"14.00\">samples = 3</text>\n",
       "<text text-anchor=\"start\" x=\"131.5\" y=\"-23.3\" font-family=\"Helvetica,sans-Serif\" font-size=\"14.00\">value = [0, 3]</text>\n",
       "<text text-anchor=\"start\" x=\"132.5\" y=\"-9.3\" font-family=\"Helvetica,sans-Serif\" font-size=\"14.00\">class = EMB</text>\n",
       "</g>\n",
       "<!-- 0&#45;&gt;2 -->\n",
       "<g id=\"edge2\" class=\"edge\"><title>0&#45;&gt;2</title>\n",
       "<path fill=\"none\" stroke=\"black\" d=\"M132.661,-102.371C137.747,-93.3016 143.179,-83.6134 148.309,-74.4664\"/>\n",
       "<polygon fill=\"black\" stroke=\"black\" points=\"151.474,-75.977 153.312,-65.5428 145.369,-72.5533 151.474,-75.977\"/>\n",
       "<text text-anchor=\"middle\" x=\"160.085\" y=\"-85.9079\" font-family=\"Helvetica,sans-Serif\" font-size=\"14.00\">False</text>\n",
       "</g>\n",
       "</g>\n",
       "</svg>\n"
      ],
      "text/plain": [
       "<graphviz.files.Source at 0x7f42e69e8be0>"
      ]
     },
     "execution_count": 59,
     "metadata": {},
     "output_type": "execute_result"
    }
   ],
   "source": [
    "decision_tree_graph(geo_numeric, 'EMB')"
   ]
  },
  {
   "cell_type": "code",
   "execution_count": null,
   "metadata": {
    "collapsed": true
   },
   "outputs": [],
   "source": []
  },
  {
   "cell_type": "markdown",
   "metadata": {},
   "source": [
    "## All together"
   ]
  },
  {
   "cell_type": "code",
   "execution_count": 60,
   "metadata": {
    "ExecuteTime": {
     "end_time": "2018-09-11T21:54:53.356160",
     "start_time": "2018-09-11T21:54:53.095236"
    },
    "collapsed": true
   },
   "outputs": [],
   "source": [
    "for t in [('health', health), ('life', life), ('geography', geo_numeric)]:\n",
    "    for c in [('burglary_residence', 'IWVR'), ('auto_theft', 'EMB')]:\n",
    "        g = decision_tree_graph(t[1], c[1])\n",
    "        g.render(\"%s_%s\"%(c[0], t[0]))"
   ]
  },
  {
   "cell_type": "code",
   "execution_count": 62,
   "metadata": {
    "ExecuteTime": {
     "end_time": "2018-09-11T21:55:16.403316",
     "start_time": "2018-09-11T21:55:16.381359"
    },
    "collapsed": false
   },
   "outputs": [
    {
     "name": "stdout",
     "output_type": "stream",
     "text": [
      "/home/pmolnar\n",
      "1017-001.pdf\n",
      "auto_theft_geography.pdf\n",
      "auto_theft_health.pdf\n",
      "auto_theft_life.pdf\n",
      "burglary_residence_geography.pdf\n",
      "burglary_residence_health.pdf\n",
      "burglary_residence_life.pdf\n",
      "ExponentialSmoothing.pdf\n",
      "health_burg_res.pdf\n",
      "iris.pdf\n",
      "iris.png.pdf\n",
      "NPU_M.pdf\n"
     ]
    }
   ],
   "source": [
    "%%sh\n",
    "pwd\n",
    "ls *.pdf"
   ]
  },
  {
   "cell_type": "code",
   "execution_count": null,
   "metadata": {
    "ExecuteTime": {
     "end_time": "2018-09-10T18:54:10.699149",
     "start_time": "2018-09-10T18:54:10.689315"
    },
    "collapsed": false
   },
   "outputs": [],
   "source": [
    "import numpy as np\n",
    "health_data = np.array(health)\n",
    "health_target = np.zeros(health.shape[0])\n",
    "health_target[[x for x in map(lambda s: s in 'MEBD', health.index)]] = 1\n",
    "health_featurenames = health.columns\n",
    "clf = tree.DecisionTreeClassifier(max_depth=2)\n",
    "clf = clf.fit(health_data, health_target)"
   ]
  },
  {
   "cell_type": "code",
   "execution_count": null,
   "metadata": {
    "collapsed": true
   },
   "outputs": [],
   "source": []
  },
  {
   "cell_type": "code",
   "execution_count": null,
   "metadata": {
    "collapsed": true
   },
   "outputs": [],
   "source": []
  },
  {
   "cell_type": "code",
   "execution_count": null,
   "metadata": {
    "collapsed": true
   },
   "outputs": [],
   "source": []
  },
  {
   "cell_type": "code",
   "execution_count": null,
   "metadata": {
    "ExecuteTime": {
     "end_time": "2018-09-10T18:54:12.793616",
     "start_time": "2018-09-10T18:54:12.729943"
    },
    "collapsed": false
   },
   "outputs": [],
   "source": [
    "import graphviz \n",
    "dot_data = tree.export_graphviz(clf, out_file=None,\n",
    "                         feature_names=health_featurenames,  \n",
    "                         class_names=['Others', 'MEBD'],  \n",
    "                         filled=True, rounded=True,  \n",
    "                         special_characters=True)  \n",
    "graph = graphviz.Source(dot_data) \n",
    "graph.render(\"NPU_M\") "
   ]
  },
  {
   "cell_type": "code",
   "execution_count": null,
   "metadata": {
    "ExecuteTime": {
     "end_time": "2018-09-10T18:54:15.303161",
     "start_time": "2018-09-10T18:54:15.017262"
    },
    "collapsed": true
   },
   "outputs": [],
   "source": [
    "%%sh\n",
    "convert NPU_M.pdf NPU_M.png"
   ]
  },
  {
   "cell_type": "markdown",
   "metadata": {},
   "source": [
    "![](NPU_M.png)"
   ]
  },
  {
   "cell_type": "code",
   "execution_count": null,
   "metadata": {
    "ExecuteTime": {
     "end_time": "2018-09-10T19:07:13.081800",
     "start_time": "2018-09-10T19:07:13.070952"
    },
    "collapsed": false,
    "scrolled": false
   },
   "outputs": [],
   "source": [
    "list(zip(health.index.values, health_target, clf.predict(health_data)))"
   ]
  },
  {
   "cell_type": "code",
   "execution_count": null,
   "metadata": {
    "ExecuteTime": {
     "end_time": "2018-09-10T19:05:47.298548",
     "start_time": "2018-09-10T19:05:47.270426"
    },
    "collapsed": false
   },
   "outputs": [],
   "source": [
    "from sklearn.tree import _tree\n",
    "\n",
    "def tree_to_code(tree, feature_names):\n",
    "    tree_ = tree.tree_\n",
    "    feature_name = [\n",
    "        feature_names[i] if i != _tree.TREE_UNDEFINED else \"undefined!\"\n",
    "        for i in tree_.feature\n",
    "    ]\n",
    "    print(\"def tree({}):\".format(\", \".join(feature_names)))\n",
    "\n",
    "    def recurse(node, depth):\n",
    "        indent = \"  \" * depth\n",
    "        if tree_.feature[node] != _tree.TREE_UNDEFINED:\n",
    "            name = feature_name[node]\n",
    "            threshold = tree_.threshold[node]\n",
    "            print(\"{}if {} <= {}:\".format(indent, name, threshold))\n",
    "            recurse(tree_.children_left[node], depth + 1)\n",
    "            print( \"{}else:  # if {} > {}\".format(indent, name, threshold))\n",
    "            recurse(tree_.children_right[node], depth + 1)\n",
    "        else:\n",
    "            print( \"{}return {}\".format(indent, tree_.value[node]))\n",
    "\n",
    "    recurse(0, 1)"
   ]
  },
  {
   "cell_type": "code",
   "execution_count": null,
   "metadata": {
    "ExecuteTime": {
     "end_time": "2018-09-10T19:05:49.094390",
     "start_time": "2018-09-10T19:05:49.087079"
    },
    "collapsed": false
   },
   "outputs": [],
   "source": [
    "tree_to_code(clf, health_featurenames)"
   ]
  },
  {
   "cell_type": "code",
   "execution_count": null,
   "metadata": {
    "collapsed": true
   },
   "outputs": [],
   "source": []
  },
  {
   "cell_type": "code",
   "execution_count": null,
   "metadata": {
    "collapsed": true
   },
   "outputs": [],
   "source": []
  },
  {
   "cell_type": "code",
   "execution_count": null,
   "metadata": {
    "ExecuteTime": {
     "end_time": "2018-09-10T16:48:40.940219",
     "start_time": "2018-09-10T16:48:40.888698"
    },
    "collapsed": false
   },
   "outputs": [],
   "source": [
    "totaldf[totaldf.table=='Geography'].pivot(index='npu', columns='Variables', values='Value')"
   ]
  },
  {
   "cell_type": "code",
   "execution_count": null,
   "metadata": {
    "collapsed": true
   },
   "outputs": [],
   "source": []
  },
  {
   "cell_type": "markdown",
   "metadata": {
    "collapsed": true
   },
   "source": [
    "# Clustering"
   ]
  },
  {
   "cell_type": "code",
   "execution_count": 9,
   "metadata": {
    "ExecuteTime": {
     "end_time": "2018-09-11T20:37:54.882331",
     "start_time": "2018-09-11T20:37:54.870526"
    },
    "collapsed": false
   },
   "outputs": [
    {
     "name": "stdout",
     "output_type": "stream",
     "text": [
      "Crime Data Columns: AGG ASSAULT, AUTO THEFT, BURGLARY-NONRES, BURGLARY-RESIDENCE, LARCENY-FROM VEHICLE, LARCENY-NON VEHICLE, ROBBERY-COMMERCIAL, ROBBERY-PEDESTRIAN, ROBBERY-RESIDENCE\n"
     ]
    }
   ],
   "source": [
    "from sklearn.cluster import KMeans\n",
    "import numpy as np\n",
    "from sklearn.preprocessing import MinMaxScaler, StandardScaler\n",
    "\n",
    "scaler = MinMaxScaler()\n",
    "scaler.fit(np.array(crime).astype(float))\n",
    "\n",
    "\n",
    "\n",
    "print(\"Crime Data Columns: %s\"%(', '.join(crime.columns)))"
   ]
  },
  {
   "cell_type": "code",
   "execution_count": 12,
   "metadata": {
    "ExecuteTime": {
     "end_time": "2018-09-11T20:38:51.348348",
     "start_time": "2018-09-11T20:38:50.757016"
    },
    "collapsed": false
   },
   "outputs": [
    {
     "name": "stdout",
     "output_type": "stream",
     "text": [
      "(25, 2)\n"
     ]
    },
    {
     "data": {
      "image/png": "[encoded data removed]",
      "text/plain": [
       "<matplotlib.figure.Figure at 0x7f4257085e10>"
      ]
     },
     "metadata": {},
     "output_type": "display_data"
    }
   ],
   "source": [
    "#fields = ['AUTO THEFT',  'LARCENY-NON VEHICLE',]\n",
    "fields = crime.columns\n",
    "\n",
    "scaler = StandardScaler()\n",
    "X_ = np.array(crime[fields]).astype(float)\n",
    "scaler.fit(X_)\n",
    "X = scaler.transform(np.array(X_))\n",
    "#X = np.array(crime)\n",
    "#kmeans = KMeans(n_clusters=3, random_state=0).fit(X)\n",
    "\n",
    "import numpy as np\n",
    "from sklearn.manifold import TSNE\n",
    "from sklearn.decomposition import PCA\n",
    "X_embedded = TSNE(n_components=2).fit_transform(X)\n",
    "X_pca= PCA(n_components=2).fit_transform(X)\n",
    "print(X_embedded.shape)\n",
    "\n",
    "%matplotlib inline\n",
    "import matplotlib.pyplot as plt\n",
    "plt.figure(figsize=(6, 6))\n",
    "# plt.plot(X_embedded[:,0], X_embedded[:,1], 'o', alpha=0.3 )\n",
    "# for c in range(len(X_embedded)):\n",
    "#     plt.text(X_embedded[c,0], X_embedded[c,1],  crime.index.values[c])\n",
    "# plt.show()\n",
    "plt.plot(X_pca[:,0], X_pca[:,1], 'o', alpha=0.3 )\n",
    "for c in range(len(X_embedded)):\n",
    "    plt.text(X_pca[c,0], X_pca[c,1],  crime.index.values[c])\n",
    "plt.show()"
   ]
  },
  {
   "cell_type": "code",
   "execution_count": null,
   "metadata": {
    "collapsed": true
   },
   "outputs": [],
   "source": [
    "## Health and Life"
   ]
  },
  {
   "cell_type": "code",
   "execution_count": null,
   "metadata": {
    "ExecuteTime": {
     "end_time": "2018-09-10T19:11:44.305306",
     "start_time": "2018-09-10T19:11:44.068765"
    },
    "collapsed": false,
    "scrolled": true
   },
   "outputs": [],
   "source": [
    "h_scaler = StandardScaler()\n",
    "X_h = np.array(health).astype(float)\n",
    "h_scaler.fit(X_h)\n",
    "X_h_pca = PCA(n_components=2).fit_transform(h_scaler.transform(X_h))\n",
    "plt.plot(X_h_pca[:,0], X_h_pca[:,1], 'o', alpha=0.3 )\n",
    "for c in range(len(X_embedded)):\n",
    "    plt.text(X_h_pca[c,0], X_h_pca[c,1],  health.index.values[c])\n",
    "plt.show()"
   ]
  },
  {
   "cell_type": "code",
   "execution_count": null,
   "metadata": {
    "ExecuteTime": {
     "end_time": "2018-09-10T19:13:13.640164",
     "start_time": "2018-09-10T19:13:13.418872"
    },
    "collapsed": false
   },
   "outputs": [],
   "source": [
    "l_scaler = StandardScaler()\n",
    "X_l = np.array(life).astype(float)\n",
    "l_scaler.fit(X_l)\n",
    "X_l_pca = PCA(n_components=2).fit_transform(l_scaler.transform(X_l))\n",
    "plt.plot(X_l_pca[:,0], X_l_pca[:,1], 'o', alpha=0.3 )\n",
    "for c in range(len(life.index.values)):\n",
    "    plt.text(X_l_pca[c,0], X_l_pca[c,1],  health.index.values[c])\n",
    "plt.show()"
   ]
  },
  {
   "cell_type": "markdown",
   "metadata": {},
   "source": [
    "# Leading Crimes"
   ]
  },
  {
   "cell_type": "code",
   "execution_count": 27,
   "metadata": {
    "ExecuteTime": {
     "end_time": "2018-09-11T20:58:14.809206",
     "start_time": "2018-09-11T20:58:14.783307"
    },
    "collapsed": false,
    "scrolled": false
   },
   "outputs": [
    {
     "name": "stdout",
     "output_type": "stream",
     "text": [
      "AGG ASSAULT\n",
      "M 148\n",
      "V 123\n",
      "Z 117\n",
      "AUTO THEFT\n",
      "E 196\n",
      "M 175\n",
      "B 160\n",
      "BURGLARY-NONRES\n",
      "R 47\n",
      "E 46\n",
      "F 44\n",
      "BURGLARY-RESIDENCE\n",
      "I 145\n",
      "W 140\n",
      "V 108\n",
      "R 106\n",
      "LARCENY-FROM VEHICLE\n",
      "M 967\n",
      "E 957\n",
      "LARCENY-NON VEHICLE\n",
      "B 824\n",
      "ROBBERY-COMMERCIAL\n",
      "T 12\n",
      "E 11\n",
      "ROBBERY-PEDESTRIAN\n",
      "M 107\n",
      "E 68\n",
      "T 68\n",
      "ROBBERY-RESIDENCE\n",
      "R 11\n",
      "M 9\n"
     ]
    }
   ],
   "source": [
    "for ct in crime.columns:\n",
    "    print(ct)\n",
    "    ser = crime[ct].sort_values(ascending=False)\n",
    "    # print(', '.join([\"%s: %d\"%(t[0], int(t[1])) for t in zip(ser.index, ser.values)]))\n",
    "    cs = np.cumsum(ser)\n",
    "    s = np.sum(ser)\n",
    "    x = 1.0*cs/s\n",
    "    for j in range(len(ser)):\n",
    "        # print(x[j])\n",
    "        if x[j]<0.3:\n",
    "            print(ser.index[j], ser.values[j])"
   ]
  },
  {
   "cell_type": "code",
   "execution_count": null,
   "metadata": {
    "collapsed": true
   },
   "outputs": [],
   "source": []
  },
  {
   "cell_type": "code",
   "execution_count": null,
   "metadata": {
    "collapsed": true
   },
   "outputs": [],
   "source": []
  }
 ],
 "metadata": {
  "hide_input": false,
  "kernelspec": {
   "display_name": "Python 3",
   "language": "python",
   "name": "python3"
  },
  "language_info": {
   "codemirror_mode": {
    "name": "ipython",
    "version": 3
   },
   "file_extension": ".py",
   "mimetype": "text/x-python",
   "name": "python",
   "nbconvert_exporter": "python",
   "pygments_lexer": "ipython3",
   "version": "3.4.3"
  },
  "toc": {
   "nav_menu": {
    "height": "12px",
    "width": "252px"
   },
   "navigate_menu": true,
   "number_sections": true,
   "sideBar": true,
   "threshold": 4,
   "toc_cell": false,
   "toc_section_display": "block",
   "toc_window_display": true
  }
 },
 "nbformat": 4,
 "nbformat_minor": 2
}
